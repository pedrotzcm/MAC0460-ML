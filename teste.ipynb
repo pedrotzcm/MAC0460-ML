{
 "cells": [
  {
   "cell_type": "code",
   "execution_count": 1,
   "metadata": {},
   "outputs": [],
   "source": [
    "!python -m venv projectvenv\n"
   ]
  },
  {
   "cell_type": "code",
   "execution_count": 2,
   "metadata": {},
   "outputs": [],
   "source": [
    "# pip install tensorflow tensorflow-gpu opencv-python matplotlib"
   ]
  },
  {
   "cell_type": "code",
   "execution_count": 3,
   "metadata": {},
   "outputs": [],
   "source": [
    "import tensorflow as tf\n",
    "import os\n",
    "import shutil as shutil"
   ]
  },
  {
   "cell_type": "code",
   "execution_count": 76,
   "metadata": {},
   "outputs": [],
   "source": [
    "gpus = tf.config.experimental.list_physical_devices('GPU')\n"
   ]
  },
  {
   "cell_type": "code",
   "execution_count": 77,
   "metadata": {},
   "outputs": [
    {
     "data": {
      "text/plain": [
       "[]"
      ]
     },
     "execution_count": 77,
     "metadata": {},
     "output_type": "execute_result"
    }
   ],
   "source": [
    "gpus"
   ]
  },
  {
   "cell_type": "code",
   "execution_count": 78,
   "metadata": {},
   "outputs": [
    {
     "name": "stdout",
     "output_type": "stream",
     "text": [
      "GPU Available: []\n",
      "TensorFlow Version: 2.16.1\n"
     ]
    }
   ],
   "source": [
    "print(\"GPU Available:\", tf.config.list_physical_devices('GPU'))\n",
    "\n",
    "# Check TensorFlow version\n",
    "print(\"TensorFlow Version:\", tf.__version__)"
   ]
  },
  {
   "cell_type": "code",
   "execution_count": 6,
   "metadata": {},
   "outputs": [],
   "source": [
    "# source_dir = r'C:\\Users\\User\\Desktop\\MAC0460-ML\\data\\output'\n",
    "\n",
    "# # Define the list of polygon types (keywords to look for in filenames)\n",
    "# polygons = ['Circle', 'Square', 'Triangle', 'Pentagon', 'Hexagon', 'Star', 'Octagon', 'Nonagon', 'Heptagon']"
   ]
  },
  {
   "cell_type": "code",
   "execution_count": 7,
   "metadata": {},
   "outputs": [],
   "source": [
    "# for polygon in polygons:\n",
    "#     polygon_dir = os.path.join(source_dir, polygon)\n",
    "#     if not os.path.exists(polygon_dir):\n",
    "#         os.makedirs(polygon_dir)\n",
    "#         #Criação de diretórios para cada uma das formas geométricas. Isso facilita a label da test data"
   ]
  },
  {
   "cell_type": "code",
   "execution_count": 8,
   "metadata": {},
   "outputs": [],
   "source": [
    "# for filename in os.listdir(source_dir):\n",
    "#     # Check if the file is an image by looking for polygon keywords in the filename\n",
    "#     for polygon in polygons:\n",
    "#         print(polygon, filename.lower())\n",
    "        \n",
    "#         if polygon.lower() in filename.lower() and polygon != filename:\n",
    "#             # Construct the source and destination file paths\n",
    "#             src_path = os.path.join(source_dir, filename)\n",
    "#             dest_path = os.path.join(source_dir, polygon, filename)\n",
    "#             # Move the file to the appropriate directory\n",
    "#             shutil.move(src_path, dest_path)\n",
    "#             break  # Move to the next file once the current file is processed"
   ]
  },
  {
   "cell_type": "code",
   "execution_count": 9,
   "metadata": {},
   "outputs": [
    {
     "name": "stdout",
     "output_type": "stream",
     "text": [
      "Requirement already satisfied: matplotlib in c:\\users\\55119\\anaconda3\\lib\\site-packages (3.7.0)\n",
      "Requirement already satisfied: contourpy>=1.0.1 in c:\\users\\55119\\anaconda3\\lib\\site-packages (from matplotlib) (1.0.5)\n",
      "Requirement already satisfied: fonttools>=4.22.0 in c:\\users\\55119\\anaconda3\\lib\\site-packages (from matplotlib) (4.25.0)\n",
      "Requirement already satisfied: python-dateutil>=2.7 in c:\\users\\55119\\anaconda3\\lib\\site-packages (from matplotlib) (2.8.2)\n",
      "Requirement already satisfied: cycler>=0.10 in c:\\users\\55119\\anaconda3\\lib\\site-packages (from matplotlib) (0.11.0)\n",
      "Requirement already satisfied: packaging>=20.0 in c:\\users\\55119\\anaconda3\\lib\\site-packages (from matplotlib) (22.0)\n",
      "Requirement already satisfied: pillow>=6.2.0 in c:\\users\\55119\\anaconda3\\lib\\site-packages (from matplotlib) (9.4.0)\n",
      "Requirement already satisfied: kiwisolver>=1.0.1 in c:\\users\\55119\\anaconda3\\lib\\site-packages (from matplotlib) (1.4.4)\n",
      "Requirement already satisfied: pyparsing>=2.3.1 in c:\\users\\55119\\anaconda3\\lib\\site-packages (from matplotlib) (3.0.9)\n",
      "Requirement already satisfied: numpy>=1.20 in c:\\users\\55119\\anaconda3\\lib\\site-packages (from matplotlib) (1.23.5)\n",
      "Requirement already satisfied: six>=1.5 in c:\\users\\55119\\anaconda3\\lib\\site-packages (from python-dateutil>=2.7->matplotlib) (1.16.0)\n",
      "Note: you may need to restart the kernel to use updated packages.\n"
     ]
    }
   ],
   "source": [
    "pip install matplotlib\n"
   ]
  },
  {
   "cell_type": "code",
   "execution_count": 10,
   "metadata": {},
   "outputs": [],
   "source": [
    "import cv2 \n",
    "from matplotlib import pyplot as plt\n",
    "import imghdr"
   ]
  },
  {
   "cell_type": "code",
   "execution_count": 11,
   "metadata": {},
   "outputs": [],
   "source": [
    "img = cv2.imread(os.path.join('data', 'Circle', 'Circle_0a4d8928-2a9a-11ea-8123-8363a7ec19e6.png'))"
   ]
  },
  {
   "cell_type": "code",
   "execution_count": 12,
   "metadata": {},
   "outputs": [
    {
     "data": {
      "text/plain": [
       "<matplotlib.image.AxesImage at 0x2e9a7df3b20>"
      ]
     },
     "execution_count": 12,
     "metadata": {},
     "output_type": "execute_result"
    },
    {
     "data": {
      "image/png": "[encoded data removed]",
      "text/plain": [
       "<Figure size 640x480 with 1 Axes>"
      ]
     },
     "metadata": {},
     "output_type": "display_data"
    }
   ],
   "source": [
    "plt.imshow(img)"
   ]
  },
  {
   "cell_type": "code",
   "execution_count": 13,
   "metadata": {},
   "outputs": [
    {
     "data": {
      "text/plain": [
       "<function tensorflow.python.data.ops.dataset_ops.DatasetV2.list_files(file_pattern, shuffle=None, seed=None, name=None) -> 'DatasetV2'>"
      ]
     },
     "execution_count": 13,
     "metadata": {},
     "output_type": "execute_result"
    }
   ],
   "source": [
    "tf.data.Dataset.list_files"
   ]
  },
  {
   "cell_type": "code",
   "execution_count": 14,
   "metadata": {},
   "outputs": [],
   "source": [
    "import numpy as np"
   ]
  },
  {
   "cell_type": "code",
   "execution_count": null,
   "metadata": {},
   "outputs": [],
   "source": []
  },
  {
   "cell_type": "code",
   "execution_count": 15,
   "metadata": {},
   "outputs": [
    {
     "name": "stdout",
     "output_type": "stream",
     "text": [
      "Found 47651 files belonging to 9 classes.\n"
     ]
    }
   ],
   "source": [
    "data = tf.keras.utils.image_dataset_from_directory('data', image_size=(200,200)) \n",
    "#Prepara os dados com suas respectivas labels "
   ]
  },
  {
   "cell_type": "code",
   "execution_count": 16,
   "metadata": {},
   "outputs": [],
   "source": [
    "data_iterator = data.as_numpy_iterator() #--> data generator"
   ]
  },
  {
   "cell_type": "code",
   "execution_count": 17,
   "metadata": {},
   "outputs": [],
   "source": [
    "batch = data_iterator.next()"
   ]
  },
  {
   "cell_type": "code",
   "execution_count": 18,
   "metadata": {},
   "outputs": [
    {
     "data": {
      "text/plain": [
       "(32, 200, 200, 3)"
      ]
     },
     "execution_count": 18,
     "metadata": {},
     "output_type": "execute_result"
    }
   ],
   "source": [
    "batch[0].shape #representacao de imagens como np arrays"
   ]
  },
  {
   "cell_type": "code",
   "execution_count": 19,
   "metadata": {},
   "outputs": [
    {
     "data": {
      "text/plain": [
       "array([3, 3, 4, 5, 4, 0, 4, 4, 0, 6, 4, 3, 6, 4, 3, 6, 7, 5, 1, 0, 7, 2,\n",
       "       7, 2, 2, 4, 6, 5, 5, 1, 2, 2])"
      ]
     },
     "execution_count": 19,
     "metadata": {},
     "output_type": "execute_result"
    }
   ],
   "source": [
    "batch[1]"
   ]
  },
  {
   "cell_type": "code",
   "execution_count": 20,
   "metadata": {},
   "outputs": [],
   "source": [
    "# Circulo : 0\n",
    "# Heptagon : 1\n",
    "# Hexagon: 2\n",
    "# Nonagon: 3\n",
    "# Octagon: 4\n",
    "# Pentagon: 5\n",
    "# Square: 6\n",
    "# Star: 7\n",
    "# Triangle : 8"
   ]
  },
  {
   "cell_type": "code",
   "execution_count": 21,
   "metadata": {},
   "outputs": [
    {
     "data": {
      "image/png": "[encoded data removed]",
      "text/plain": [
       "<Figure size 2000x2000 with 7 Axes>"
      ]
     },
     "metadata": {},
     "output_type": "display_data"
    }
   ],
   "source": [
    "\n",
    "fig, ax = plt.subplots(ncols=7, figsize=(20,20))\n",
    "for idx, img in enumerate(batch[0][:7]):\n",
    "  ax[idx].imshow(img.astype(int))\n",
    "  ax[idx].title.set_text(batch[1][idx])"
   ]
  },
  {
   "cell_type": "code",
   "execution_count": 22,
   "metadata": {},
   "outputs": [
    {
     "data": {
      "text/plain": [
       "254.0"
      ]
     },
     "execution_count": 22,
     "metadata": {},
     "output_type": "execute_result"
    }
   ],
   "source": [
    "batch[0].max()"
   ]
  },
  {
   "cell_type": "code",
   "execution_count": 23,
   "metadata": {},
   "outputs": [],
   "source": [
    "data = data.map(lambda x,y: (x/255, y))"
   ]
  },
  {
   "cell_type": "code",
   "execution_count": 24,
   "metadata": {},
   "outputs": [
    {
     "data": {
      "text/plain": [
       "0.0"
      ]
     },
     "execution_count": 24,
     "metadata": {},
     "output_type": "execute_result"
    }
   ],
   "source": [
    "data.as_numpy_iterator().next()[0].min()"
   ]
  },
  {
   "cell_type": "code",
   "execution_count": 25,
   "metadata": {},
   "outputs": [],
   "source": [
    "scaled_iterator = data.as_numpy_iterator()"
   ]
  },
  {
   "cell_type": "code",
   "execution_count": 26,
   "metadata": {},
   "outputs": [],
   "source": [
    "batch = scaled_iterator.next()"
   ]
  },
  {
   "cell_type": "code",
   "execution_count": 27,
   "metadata": {},
   "outputs": [
    {
     "data": {
      "image/png": "[encoded data removed]",
      "text/plain": [
       "<Figure size 2000x2000 with 7 Axes>"
      ]
     },
     "metadata": {},
     "output_type": "display_data"
    }
   ],
   "source": [
    "fig, ax = plt.subplots(ncols=7, figsize=(20,20))\n",
    "for idx, img in enumerate(batch[0][:7]):\n",
    "  ax[idx].imshow(img)\n",
    "  ax[idx].title.set_text(batch[1][idx])"
   ]
  },
  {
   "cell_type": "code",
   "execution_count": 28,
   "metadata": {},
   "outputs": [
    {
     "data": {
      "text/plain": [
       "1490"
      ]
     },
     "execution_count": 28,
     "metadata": {},
     "output_type": "execute_result"
    }
   ],
   "source": [
    "\n",
    "\n",
    "len(data)"
   ]
  },
  {
   "cell_type": "code",
   "execution_count": 29,
   "metadata": {},
   "outputs": [],
   "source": [
    "train_size = int(len(data)*0.7) #70% dos dados para treinamento do modelo\n",
    "val_size = int(len(data)*0.2) #20% dos dados para validação do modelo\n",
    "test_size = int(len(data)*0.1) #10% dos dados para teste do modelo"
   ]
  },
  {
   "cell_type": "code",
   "execution_count": 30,
   "metadata": {},
   "outputs": [],
   "source": [
    "train = data.take(train_size)\n",
    "val = data.skip(train_size).take(val_size)\n",
    "test = data.skip(train_size + val_size).take(test_size)"
   ]
  },
  {
   "cell_type": "code",
   "execution_count": 31,
   "metadata": {},
   "outputs": [],
   "source": [
    "from tensorflow.keras.models import Sequential\n",
    "\n",
    "from tensorflow.keras.layers import Conv2D, MaxPooling2D, Dense, Flatten, Dropout, Input"
   ]
  },
  {
   "cell_type": "code",
   "execution_count": 32,
   "metadata": {},
   "outputs": [],
   "source": [
    "model = Sequential()"
   ]
  },
  {
   "cell_type": "code",
   "execution_count": 33,
   "metadata": {},
   "outputs": [
    {
     "name": "stdout",
     "output_type": "stream",
     "text": [
      "Training batch shape: (32, 200, 200, 3)\n",
      "Training batch labels shape: (32,)\n",
      "Training batch shape: (32, 200, 200, 3)\n",
      "Training batch labels shape: (32,)\n"
     ]
    }
   ],
   "source": [
    "for batch in train:\n",
    "    print(\"Training batch shape:\", batch[0].shape)  # Assuming batch[0] contains input data\n",
    "    print(\"Training batch labels shape:\", batch[1].shape)  # Assuming batch[1] contains labels\n",
    "    break  # Stop after inspecting the first batch\n",
    "\n",
    "\n",
    "for batch in val:\n",
    "    print(\"Training batch shape:\", batch[0].shape)  # Assuming batch[0] contains input data\n",
    "    print(\"Training batch labels shape:\", batch[1].shape)  # Assuming batch[1] contains labels\n",
    "    break  # Stop after inspecting the first batch"
   ]
  },
  {
   "cell_type": "code",
   "execution_count": 34,
   "metadata": {},
   "outputs": [],
   "source": [
    "model.add(Input(shape=(200, 200, 3)))\n",
    "\n",
    "\n",
    "model.add(Conv2D(16, (3,3), 1, activation='relu'))\n",
    "\n",
    "model.add(MaxPooling2D())\n",
    "\n",
    "\n",
    "model.add(Conv2D(32, (3,3), 1, activation='relu'))\n",
    "model.add(MaxPooling2D())\n",
    "\n",
    "model.add(Conv2D(16, (3,3), 1, activation='relu'))\n",
    "model.add(MaxPooling2D())\n",
    "\n",
    "model.add(Flatten())\n",
    "\n",
    "model.add(Dense(256, activation='relu'))\n",
    "model.add(Dense(9, activation='softmax'))\n"
   ]
  },
  {
   "cell_type": "code",
   "execution_count": 35,
   "metadata": {},
   "outputs": [],
   "source": [
    "model.compile(optimizer='adam', loss='sparse_categorical_crossentropy', metrics=['accuracy'])"
   ]
  },
  {
   "cell_type": "code",
   "execution_count": 36,
   "metadata": {},
   "outputs": [
    {
     "data": {
      "text/html": [
       "<pre style=\"white-space:pre;overflow-x:auto;line-height:normal;font-family:Menlo,'DejaVu Sans Mono',consolas,'Courier New',monospace\"><span style=\"font-weight: bold\">Model: \"sequential\"</span>\n",
       "</pre>\n"
      ],
      "text/plain": [
       "\u001b[1mModel: \"sequential\"\u001b[0m\n"
      ]
     },
     "metadata": {},
     "output_type": "display_data"
    },
    {
     "data": {
      "text/html": [
       "<pre style=\"white-space:pre;overflow-x:auto;line-height:normal;font-family:Menlo,'DejaVu Sans Mono',consolas,'Courier New',monospace\">┏━━━━━━━━━━━━━━━━━━━━━━━━━━━━━━━━━┳━━━━━━━━━━━━━━━━━━━━━━━━┳━━━━━━━━━━━━━━━┓\n",
       "┃<span style=\"font-weight: bold\"> Layer (type)                    </span>┃<span style=\"font-weight: bold\"> Output Shape           </span>┃<span style=\"font-weight: bold\">       Param # </span>┃\n",
       "┡━━━━━━━━━━━━━━━━━━━━━━━━━━━━━━━━━╇━━━━━━━━━━━━━━━━━━━━━━━━╇━━━━━━━━━━━━━━━┩\n",
       "│ conv2d (<span style=\"color: #0087ff; text-decoration-color: #0087ff\">Conv2D</span>)                 │ (<span style=\"color: #00d7ff; text-decoration-color: #00d7ff\">None</span>, <span style=\"color: #00af00; text-decoration-color: #00af00\">198</span>, <span style=\"color: #00af00; text-decoration-color: #00af00\">198</span>, <span style=\"color: #00af00; text-decoration-color: #00af00\">16</span>)   │           <span style=\"color: #00af00; text-decoration-color: #00af00\">448</span> │\n",
       "├─────────────────────────────────┼────────────────────────┼───────────────┤\n",
       "│ max_pooling2d (<span style=\"color: #0087ff; text-decoration-color: #0087ff\">MaxPooling2D</span>)    │ (<span style=\"color: #00d7ff; text-decoration-color: #00d7ff\">None</span>, <span style=\"color: #00af00; text-decoration-color: #00af00\">99</span>, <span style=\"color: #00af00; text-decoration-color: #00af00\">99</span>, <span style=\"color: #00af00; text-decoration-color: #00af00\">16</span>)     │             <span style=\"color: #00af00; text-decoration-color: #00af00\">0</span> │\n",
       "├─────────────────────────────────┼────────────────────────┼───────────────┤\n",
       "│ conv2d_1 (<span style=\"color: #0087ff; text-decoration-color: #0087ff\">Conv2D</span>)               │ (<span style=\"color: #00d7ff; text-decoration-color: #00d7ff\">None</span>, <span style=\"color: #00af00; text-decoration-color: #00af00\">97</span>, <span style=\"color: #00af00; text-decoration-color: #00af00\">97</span>, <span style=\"color: #00af00; text-decoration-color: #00af00\">32</span>)     │         <span style=\"color: #00af00; text-decoration-color: #00af00\">4,640</span> │\n",
       "├─────────────────────────────────┼────────────────────────┼───────────────┤\n",
       "│ max_pooling2d_1 (<span style=\"color: #0087ff; text-decoration-color: #0087ff\">MaxPooling2D</span>)  │ (<span style=\"color: #00d7ff; text-decoration-color: #00d7ff\">None</span>, <span style=\"color: #00af00; text-decoration-color: #00af00\">48</span>, <span style=\"color: #00af00; text-decoration-color: #00af00\">48</span>, <span style=\"color: #00af00; text-decoration-color: #00af00\">32</span>)     │             <span style=\"color: #00af00; text-decoration-color: #00af00\">0</span> │\n",
       "├─────────────────────────────────┼────────────────────────┼───────────────┤\n",
       "│ conv2d_2 (<span style=\"color: #0087ff; text-decoration-color: #0087ff\">Conv2D</span>)               │ (<span style=\"color: #00d7ff; text-decoration-color: #00d7ff\">None</span>, <span style=\"color: #00af00; text-decoration-color: #00af00\">46</span>, <span style=\"color: #00af00; text-decoration-color: #00af00\">46</span>, <span style=\"color: #00af00; text-decoration-color: #00af00\">16</span>)     │         <span style=\"color: #00af00; text-decoration-color: #00af00\">4,624</span> │\n",
       "├─────────────────────────────────┼────────────────────────┼───────────────┤\n",
       "│ max_pooling2d_2 (<span style=\"color: #0087ff; text-decoration-color: #0087ff\">MaxPooling2D</span>)  │ (<span style=\"color: #00d7ff; text-decoration-color: #00d7ff\">None</span>, <span style=\"color: #00af00; text-decoration-color: #00af00\">23</span>, <span style=\"color: #00af00; text-decoration-color: #00af00\">23</span>, <span style=\"color: #00af00; text-decoration-color: #00af00\">16</span>)     │             <span style=\"color: #00af00; text-decoration-color: #00af00\">0</span> │\n",
       "├─────────────────────────────────┼────────────────────────┼───────────────┤\n",
       "│ flatten (<span style=\"color: #0087ff; text-decoration-color: #0087ff\">Flatten</span>)               │ (<span style=\"color: #00d7ff; text-decoration-color: #00d7ff\">None</span>, <span style=\"color: #00af00; text-decoration-color: #00af00\">8464</span>)           │             <span style=\"color: #00af00; text-decoration-color: #00af00\">0</span> │\n",
       "├─────────────────────────────────┼────────────────────────┼───────────────┤\n",
       "│ dense (<span style=\"color: #0087ff; text-decoration-color: #0087ff\">Dense</span>)                   │ (<span style=\"color: #00d7ff; text-decoration-color: #00d7ff\">None</span>, <span style=\"color: #00af00; text-decoration-color: #00af00\">256</span>)            │     <span style=\"color: #00af00; text-decoration-color: #00af00\">2,167,040</span> │\n",
       "├─────────────────────────────────┼────────────────────────┼───────────────┤\n",
       "│ dense_1 (<span style=\"color: #0087ff; text-decoration-color: #0087ff\">Dense</span>)                 │ (<span style=\"color: #00d7ff; text-decoration-color: #00d7ff\">None</span>, <span style=\"color: #00af00; text-decoration-color: #00af00\">9</span>)              │         <span style=\"color: #00af00; text-decoration-color: #00af00\">2,313</span> │\n",
       "└─────────────────────────────────┴────────────────────────┴───────────────┘\n",
       "</pre>\n"
      ],
      "text/plain": [
       "┏━━━━━━━━━━━━━━━━━━━━━━━━━━━━━━━━━┳━━━━━━━━━━━━━━━━━━━━━━━━┳━━━━━━━━━━━━━━━┓\n",
       "┃\u001b[1m \u001b[0m\u001b[1mLayer (type)                   \u001b[0m\u001b[1m \u001b[0m┃\u001b[1m \u001b[0m\u001b[1mOutput Shape          \u001b[0m\u001b[1m \u001b[0m┃\u001b[1m \u001b[0m\u001b[1m      Param #\u001b[0m\u001b[1m \u001b[0m┃\n",
       "┡━━━━━━━━━━━━━━━━━━━━━━━━━━━━━━━━━╇━━━━━━━━━━━━━━━━━━━━━━━━╇━━━━━━━━━━━━━━━┩\n",
       "│ conv2d (\u001b[38;5;33mConv2D\u001b[0m)                 │ (\u001b[38;5;45mNone\u001b[0m, \u001b[38;5;34m198\u001b[0m, \u001b[38;5;34m198\u001b[0m, \u001b[38;5;34m16\u001b[0m)   │           \u001b[38;5;34m448\u001b[0m │\n",
       "├─────────────────────────────────┼────────────────────────┼───────────────┤\n",
       "│ max_pooling2d (\u001b[38;5;33mMaxPooling2D\u001b[0m)    │ (\u001b[38;5;45mNone\u001b[0m, \u001b[38;5;34m99\u001b[0m, \u001b[38;5;34m99\u001b[0m, \u001b[38;5;34m16\u001b[0m)     │             \u001b[38;5;34m0\u001b[0m │\n",
       "├─────────────────────────────────┼────────────────────────┼───────────────┤\n",
       "│ conv2d_1 (\u001b[38;5;33mConv2D\u001b[0m)               │ (\u001b[38;5;45mNone\u001b[0m, \u001b[38;5;34m97\u001b[0m, \u001b[38;5;34m97\u001b[0m, \u001b[38;5;34m32\u001b[0m)     │         \u001b[38;5;34m4,640\u001b[0m │\n",
       "├─────────────────────────────────┼────────────────────────┼───────────────┤\n",
       "│ max_pooling2d_1 (\u001b[38;5;33mMaxPooling2D\u001b[0m)  │ (\u001b[38;5;45mNone\u001b[0m, \u001b[38;5;34m48\u001b[0m, \u001b[38;5;34m48\u001b[0m, \u001b[38;5;34m32\u001b[0m)     │             \u001b[38;5;34m0\u001b[0m │\n",
       "├─────────────────────────────────┼────────────────────────┼───────────────┤\n",
       "│ conv2d_2 (\u001b[38;5;33mConv2D\u001b[0m)               │ (\u001b[38;5;45mNone\u001b[0m, \u001b[38;5;34m46\u001b[0m, \u001b[38;5;34m46\u001b[0m, \u001b[38;5;34m16\u001b[0m)     │         \u001b[38;5;34m4,624\u001b[0m │\n",
       "├─────────────────────────────────┼────────────────────────┼───────────────┤\n",
       "│ max_pooling2d_2 (\u001b[38;5;33mMaxPooling2D\u001b[0m)  │ (\u001b[38;5;45mNone\u001b[0m, \u001b[38;5;34m23\u001b[0m, \u001b[38;5;34m23\u001b[0m, \u001b[38;5;34m16\u001b[0m)     │             \u001b[38;5;34m0\u001b[0m │\n",
       "├─────────────────────────────────┼────────────────────────┼───────────────┤\n",
       "│ flatten (\u001b[38;5;33mFlatten\u001b[0m)               │ (\u001b[38;5;45mNone\u001b[0m, \u001b[38;5;34m8464\u001b[0m)           │             \u001b[38;5;34m0\u001b[0m │\n",
       "├─────────────────────────────────┼────────────────────────┼───────────────┤\n",
       "│ dense (\u001b[38;5;33mDense\u001b[0m)                   │ (\u001b[38;5;45mNone\u001b[0m, \u001b[38;5;34m256\u001b[0m)            │     \u001b[38;5;34m2,167,040\u001b[0m │\n",
       "├─────────────────────────────────┼────────────────────────┼───────────────┤\n",
       "│ dense_1 (\u001b[38;5;33mDense\u001b[0m)                 │ (\u001b[38;5;45mNone\u001b[0m, \u001b[38;5;34m9\u001b[0m)              │         \u001b[38;5;34m2,313\u001b[0m │\n",
       "└─────────────────────────────────┴────────────────────────┴───────────────┘\n"
      ]
     },
     "metadata": {},
     "output_type": "display_data"
    },
    {
     "data": {
      "text/html": [
       "<pre style=\"white-space:pre;overflow-x:auto;line-height:normal;font-family:Menlo,'DejaVu Sans Mono',consolas,'Courier New',monospace\"><span style=\"font-weight: bold\"> Total params: </span><span style=\"color: #00af00; text-decoration-color: #00af00\">2,179,065</span> (8.31 MB)\n",
       "</pre>\n"
      ],
      "text/plain": [
       "\u001b[1m Total params: \u001b[0m\u001b[38;5;34m2,179,065\u001b[0m (8.31 MB)\n"
      ]
     },
     "metadata": {},
     "output_type": "display_data"
    },
    {
     "data": {
      "text/html": [
       "<pre style=\"white-space:pre;overflow-x:auto;line-height:normal;font-family:Menlo,'DejaVu Sans Mono',consolas,'Courier New',monospace\"><span style=\"font-weight: bold\"> Trainable params: </span><span style=\"color: #00af00; text-decoration-color: #00af00\">2,179,065</span> (8.31 MB)\n",
       "</pre>\n"
      ],
      "text/plain": [
       "\u001b[1m Trainable params: \u001b[0m\u001b[38;5;34m2,179,065\u001b[0m (8.31 MB)\n"
      ]
     },
     "metadata": {},
     "output_type": "display_data"
    },
    {
     "data": {
      "text/html": [
       "<pre style=\"white-space:pre;overflow-x:auto;line-height:normal;font-family:Menlo,'DejaVu Sans Mono',consolas,'Courier New',monospace\"><span style=\"font-weight: bold\"> Non-trainable params: </span><span style=\"color: #00af00; text-decoration-color: #00af00\">0</span> (0.00 B)\n",
       "</pre>\n"
      ],
      "text/plain": [
       "\u001b[1m Non-trainable params: \u001b[0m\u001b[38;5;34m0\u001b[0m (0.00 B)\n"
      ]
     },
     "metadata": {},
     "output_type": "display_data"
    }
   ],
   "source": [
    "model.summary()"
   ]
  },
  {
   "cell_type": "code",
   "execution_count": 37,
   "metadata": {},
   "outputs": [
    {
     "name": "stdout",
     "output_type": "stream",
     "text": [
      "Epoch 1/10\n",
      "\u001b[1m1043/1043\u001b[0m \u001b[32m━━━━━━━━━━━━━━━━━━━━\u001b[0m\u001b[37m\u001b[0m \u001b[1m253s\u001b[0m 241ms/step - accuracy: 0.1553 - loss: 2.1275 - val_accuracy: 0.3775 - val_loss: 1.5863\n",
      "Epoch 2/10\n",
      "\u001b[1m1043/1043\u001b[0m \u001b[32m━━━━━━━━━━━━━━━━━━━━\u001b[0m\u001b[37m\u001b[0m \u001b[1m228s\u001b[0m 218ms/step - accuracy: 0.4300 - loss: 1.4485 - val_accuracy: 0.5565 - val_loss: 1.1554\n",
      "Epoch 3/10\n",
      "\u001b[1m1043/1043\u001b[0m \u001b[32m━━━━━━━━━━━━━━━━━━━━\u001b[0m\u001b[37m\u001b[0m \u001b[1m220s\u001b[0m 210ms/step - accuracy: 0.6294 - loss: 0.9544 - val_accuracy: 0.6509 - val_loss: 0.9429\n",
      "Epoch 4/10\n",
      "\u001b[1m1043/1043\u001b[0m \u001b[32m━━━━━━━━━━━━━━━━━━━━\u001b[0m\u001b[37m\u001b[0m \u001b[1m217s\u001b[0m 208ms/step - accuracy: 0.7659 - loss: 0.6230 - val_accuracy: 0.7250 - val_loss: 0.8424\n",
      "Epoch 5/10\n",
      "\u001b[1m1043/1043\u001b[0m \u001b[32m━━━━━━━━━━━━━━━━━━━━\u001b[0m\u001b[37m\u001b[0m \u001b[1m213s\u001b[0m 204ms/step - accuracy: 0.8496 - loss: 0.4081 - val_accuracy: 0.7494 - val_loss: 0.8533\n",
      "Epoch 6/10\n",
      "\u001b[1m1043/1043\u001b[0m \u001b[32m━━━━━━━━━━━━━━━━━━━━\u001b[0m\u001b[37m\u001b[0m \u001b[1m210s\u001b[0m 201ms/step - accuracy: 0.9003 - loss: 0.2735 - val_accuracy: 0.7556 - val_loss: 0.9409\n",
      "Epoch 7/10\n",
      "\u001b[1m1043/1043\u001b[0m \u001b[32m━━━━━━━━━━━━━━━━━━━━\u001b[0m\u001b[37m\u001b[0m \u001b[1m208s\u001b[0m 199ms/step - accuracy: 0.9312 - loss: 0.2013 - val_accuracy: 0.7639 - val_loss: 1.0572\n",
      "Epoch 8/10\n",
      "\u001b[1m1043/1043\u001b[0m \u001b[32m━━━━━━━━━━━━━━━━━━━━\u001b[0m\u001b[37m\u001b[0m \u001b[1m209s\u001b[0m 201ms/step - accuracy: 0.9481 - loss: 0.1512 - val_accuracy: 0.7611 - val_loss: 1.1366\n",
      "Epoch 9/10\n",
      "\u001b[1m1043/1043\u001b[0m \u001b[32m━━━━━━━━━━━━━━━━━━━━\u001b[0m\u001b[37m\u001b[0m \u001b[1m208s\u001b[0m 199ms/step - accuracy: 0.9605 - loss: 0.1206 - val_accuracy: 0.7658 - val_loss: 1.1668\n",
      "Epoch 10/10\n",
      "\u001b[1m1043/1043\u001b[0m \u001b[32m━━━━━━━━━━━━━━━━━━━━\u001b[0m\u001b[37m\u001b[0m \u001b[1m208s\u001b[0m 199ms/step - accuracy: 0.9707 - loss: 0.0992 - val_accuracy: 0.7738 - val_loss: 1.3010\n"
     ]
    }
   ],
   "source": [
    "logdir = 'logs'\n",
    "tensorboard_callback = tf.keras.callbacks.TensorBoard(log_dir=logdir)\n",
    "hist = model.fit(train, validation_data=val, epochs=10, callbacks=[tensorboard_callback])"
   ]
  },
  {
   "cell_type": "code",
   "execution_count": 38,
   "metadata": {},
   "outputs": [],
   "source": [
    "from tensorflow.keras.metrics import Precision, Recall, BinaryAccuracy"
   ]
  },
  {
   "cell_type": "code",
   "execution_count": 39,
   "metadata": {},
   "outputs": [],
   "source": [
    "pre = Precision()\n",
    "re = Recall()\n",
    "acc = BinaryAccuracy()"
   ]
  },
  {
   "cell_type": "code",
   "execution_count": 46,
   "metadata": {},
   "outputs": [
    {
     "name": "stdout",
     "output_type": "stream",
     "text": [
      "Test batch shape: (32, 200, 200, 3)\n",
      "Test batch labels shape: (32,)\n",
      "[8 8 5 0 1 1 2 2 5 0 0 3 4 6 2 6 3 3 0 3 1 0 1 1 2 3 2 4 1 4 3 2]\n"
     ]
    }
   ],
   "source": [
    "for batch in test.as_numpy_iterator():\n",
    "    print(\"Test batch shape:\", batch[0].shape)  # Assuming batch[0] contains input data\n",
    "    print(\"Test batch labels shape:\", batch[1].shape)  # Assuming batch[1] contains labels\n",
    "    print(batch[1])\n",
    "    break  # Stop after inspecting the first batch"
   ]
  },
  {
   "cell_type": "code",
   "execution_count": 51,
   "metadata": {},
   "outputs": [
    {
     "name": "stdout",
     "output_type": "stream",
     "text": [
      "[5 3 6 1 8 4 3 0 8 7 5 3 8 4 7 2 4 3 4 4 6 0 8 0 3 3 3 7 6 2 0 6]\n",
      "\u001b[1m1/1\u001b[0m \u001b[32m━━━━━━━━━━━━━━━━━━━━\u001b[0m\u001b[37m\u001b[0m \u001b[1m0s\u001b[0m 74ms/step\n",
      "[5 3 6 5 8 4 1 0 5 7 5 5 8 3 7 5 4 3 1 4 6 4 8 0 5 4 1 6 2 2 0 6]\n",
      "[0 4 2 7 7 6 7 3 5 2 4 5 0 0 1 0 3 1 4 8 6 6 6 2 7 0 4 2 3 7 0 5]\n",
      "\u001b[1m1/1\u001b[0m \u001b[32m━━━━━━━━━━━━━━━━━━━━\u001b[0m\u001b[37m\u001b[0m \u001b[1m0s\u001b[0m 68ms/step\n",
      "[0 4 2 7 7 6 7 3 5 2 6 5 0 0 4 0 1 1 5 0 5 6 6 2 6 4 4 2 3 7 3 5]\n",
      "[6 3 0 4 2 6 4 1 8 8 8 3 7 3 2 1 1 7 2 5 7 8 4 4 7 6 3 6 0 8 6 3]\n",
      "\u001b[1m1/1\u001b[0m \u001b[32m━━━━━━━━━━━━━━━━━━━━\u001b[0m\u001b[37m\u001b[0m \u001b[1m0s\u001b[0m 71ms/step\n",
      "[6 3 3 4 2 3 4 1 8 8 8 0 6 3 2 1 1 7 5 5 7 8 4 4 7 2 0 6 0 8 6 0]\n",
      "[0 8 1 3 4 7 5 6 1 6 7 4 5 4 1 4 5 3 2 3 4 3 1 8 2 6 8 8 6 1 2 5]\n",
      "\u001b[1m1/1\u001b[0m \u001b[32m━━━━━━━━━━━━━━━━━━━━\u001b[0m\u001b[37m\u001b[0m \u001b[1m0s\u001b[0m 72ms/step\n",
      "[0 4 0 3 4 7 5 6 4 2 7 4 2 4 1 4 5 3 2 0 4 1 1 8 2 5 8 8 6 1 6 5]\n",
      "[6 5 0 8 0 5 4 2 1 6 6 1 6 1 6 5 7 2 0 1 4 8 2 3 5 8 8 0 5 2 6 7]\n",
      "\u001b[1m1/1\u001b[0m \u001b[32m━━━━━━━━━━━━━━━━━━━━\u001b[0m\u001b[37m\u001b[0m \u001b[1m0s\u001b[0m 74ms/step\n",
      "[6 5 0 8 0 5 4 2 1 6 6 1 6 3 6 5 7 2 0 1 2 8 2 3 5 8 8 8 1 2 6 7]\n",
      "[4 6 5 1 4 2 7 1 7 5 6 0 2 8 7 2 2 3 3 8 2 4 2 3 1 7 1 5 3 3 8 4]\n",
      "\u001b[1m1/1\u001b[0m \u001b[32m━━━━━━━━━━━━━━━━━━━━\u001b[0m\u001b[37m\u001b[0m \u001b[1m0s\u001b[0m 71ms/step\n",
      "[4 6 5 1 4 2 7 1 7 4 6 1 2 8 8 1 5 3 3 8 2 4 2 3 1 7 1 5 0 3 8 3]\n",
      "[1 5 3 0 5 3 7 6 3 5 2 0 0 4 7 5 1 4 5 4 6 4 2 6 5 4 7 3 2 1 2 1]\n",
      "\u001b[1m1/1\u001b[0m \u001b[32m━━━━━━━━━━━━━━━━━━━━\u001b[0m\u001b[37m\u001b[0m \u001b[1m0s\u001b[0m 67ms/step\n",
      "[1 5 3 0 5 3 7 6 0 5 2 4 0 3 2 5 1 4 5 4 6 4 2 0 5 1 7 3 2 1 2 2]\n",
      "[0 4 0 1 8 5 1 8 0 7 5 3 6 8 4 5 6 5 3 2 0 6 0 5 7 0 6 7 4 8 4 1]\n",
      "\u001b[1m1/1\u001b[0m \u001b[32m━━━━━━━━━━━━━━━━━━━━\u001b[0m\u001b[37m\u001b[0m \u001b[1m0s\u001b[0m 71ms/step\n",
      "[0 4 0 5 8 5 1 8 0 7 5 3 6 8 4 5 6 4 0 2 0 6 0 5 7 1 6 7 4 8 4 1]\n",
      "[0 2 5 8 1 7 2 2 1 5 5 7 6 6 1 7 1 3 2 8 2 1 4 7 4 2 7 1 7 8 8 3]\n",
      "\u001b[1m1/1\u001b[0m \u001b[32m━━━━━━━━━━━━━━━━━━━━\u001b[0m\u001b[37m\u001b[0m \u001b[1m0s\u001b[0m 71ms/step\n",
      "[4 2 5 8 5 7 2 3 1 5 5 7 6 6 3 7 1 3 2 8 2 5 4 7 2 2 7 1 7 8 8 3]\n",
      "[1 0 8 5 8 4 1 8 8 7 1 6 4 3 2 7 0 5 6 8 1 7 6 6 5 2 8 4 6 0 5 8]\n",
      "\u001b[1m1/1\u001b[0m \u001b[32m━━━━━━━━━━━━━━━━━━━━\u001b[0m\u001b[37m\u001b[0m \u001b[1m0s\u001b[0m 74ms/step\n",
      "[1 0 8 4 8 4 1 8 8 7 0 6 4 3 2 4 0 5 2 8 0 7 6 6 5 4 8 4 6 0 5 8]\n",
      "[2 2 7 5 4 4 0 1 4 6 2 4 1 1 3 5 0 7 3 0 2 8 7 6 2 2 4 6 1 5 5 1]\n",
      "\u001b[1m1/1\u001b[0m \u001b[32m━━━━━━━━━━━━━━━━━━━━\u001b[0m\u001b[37m\u001b[0m \u001b[1m0s\u001b[0m 68ms/step\n",
      "[2 4 7 5 1 4 0 0 4 6 2 4 1 1 3 5 0 7 3 0 2 8 7 6 2 5 3 6 1 5 1 3]\n",
      "[5 0 7 6 6 7 7 4 2 6 8 7 7 1 3 5 6 0 0 0 6 2 6 3 8 6 0 2 1 5 4 8]\n",
      "\u001b[1m1/1\u001b[0m \u001b[32m━━━━━━━━━━━━━━━━━━━━\u001b[0m\u001b[37m\u001b[0m \u001b[1m0s\u001b[0m 83ms/step\n",
      "[5 0 7 6 6 7 7 4 2 8 8 7 7 1 1 5 6 0 0 0 6 2 6 4 8 6 0 2 1 2 4 8]\n",
      "[6 8 0 4 2 4 4 1 2 7 8 2 1 8 8 8 1 1 0 1 0 2 5 8 1 0 6 3 0 2 7 0]\n",
      "\u001b[1m1/1\u001b[0m \u001b[32m━━━━━━━━━━━━━━━━━━━━\u001b[0m\u001b[37m\u001b[0m \u001b[1m0s\u001b[0m 67ms/step\n",
      "[6 8 0 1 2 0 4 1 2 7 8 5 1 8 8 8 0 1 0 1 0 2 5 8 1 3 6 3 0 2 7 0]\n",
      "[3 6 2 8 1 4 8 0 4 7 3 4 0 6 8 3 6 3 7 6 0 6 0 0 2 8 0 7 3 3 5 1]\n",
      "\u001b[1m1/1\u001b[0m \u001b[32m━━━━━━━━━━━━━━━━━━━━\u001b[0m\u001b[37m\u001b[0m \u001b[1m0s\u001b[0m 67ms/step\n",
      "[3 6 2 8 3 4 6 0 4 7 3 4 0 2 8 2 6 3 7 6 0 5 3 0 2 8 0 7 4 3 5 1]\n",
      "[7 8 2 1 1 2 3 8 8 7 1 5 1 0 0 8 2 2 3 1 5 4 2 0 7 6 6 0 6 5 0 7]\n",
      "\u001b[1m1/1\u001b[0m \u001b[32m━━━━━━━━━━━━━━━━━━━━\u001b[0m\u001b[37m\u001b[0m \u001b[1m0s\u001b[0m 67ms/step\n",
      "[7 8 3 1 1 2 3 8 8 7 1 5 1 0 0 8 2 2 3 0 5 4 2 0 7 6 6 0 6 5 0 7]\n",
      "[5 7 1 5 8 8 1 2 6 6 1 0 0 8 7 2 3 3 2 4 6 6 2 7 0 5 0 8 3 5 4 5]\n",
      "\u001b[1m1/1\u001b[0m \u001b[32m━━━━━━━━━━━━━━━━━━━━\u001b[0m\u001b[37m\u001b[0m \u001b[1m0s\u001b[0m 68ms/step\n",
      "[5 7 3 1 8 8 1 5 6 6 1 0 1 8 7 2 1 0 2 4 6 2 2 7 0 5 3 8 4 5 4 5]\n",
      "[1 0 3 3 4 6 3 3 6 6 5 3 6 4 7 8 4 8 1 8 8 2 2 3 7 6 6 5 8 3 2 4]\n",
      "\u001b[1m1/1\u001b[0m \u001b[32m━━━━━━━━━━━━━━━━━━━━\u001b[0m\u001b[37m\u001b[0m \u001b[1m0s\u001b[0m 66ms/step\n",
      "[0 4 3 3 4 6 3 3 6 6 5 3 2 4 8 8 2 8 4 8 8 2 2 3 7 6 6 5 8 3 5 4]\n",
      "[6 4 6 5 5 7 2 2 1 4 8 3 3 8 5 3 6 7 5 7 2 7 3 6 3 6 3 4 6 3 6 7]\n",
      "\u001b[1m1/1\u001b[0m \u001b[32m━━━━━━━━━━━━━━━━━━━━\u001b[0m\u001b[37m\u001b[0m \u001b[1m0s\u001b[0m 69ms/step\n",
      "[6 4 6 5 5 7 1 2 5 3 8 3 4 8 5 3 6 7 5 8 4 7 3 6 3 6 1 4 8 3 6 7]\n",
      "[7 2 5 0 4 6 7 7 6 8 2 7 2 4 3 4 0 0 2 5 5 4 3 7 1 5 2 6 7 5 1 2]\n",
      "\u001b[1m1/1\u001b[0m \u001b[32m━━━━━━━━━━━━━━━━━━━━\u001b[0m\u001b[37m\u001b[0m \u001b[1m0s\u001b[0m 70ms/step\n",
      "[7 2 2 5 4 2 7 7 6 5 1 7 5 4 3 4 0 0 2 5 5 4 1 7 1 5 2 6 7 5 5 1]\n",
      "[5 7 8 0 7 6 7 3 3 8 2 2 3 4 1 6 8 1 0 2 4 0 7 5 5 7 0 3 0 7 5 8]\n",
      "\u001b[1m1/1\u001b[0m \u001b[32m━━━━━━━━━━━━━━━━━━━━\u001b[0m\u001b[37m\u001b[0m \u001b[1m0s\u001b[0m 67ms/step\n",
      "[5 7 8 0 7 6 7 4 3 8 6 2 1 4 1 6 8 1 0 6 4 0 7 5 5 7 5 3 0 7 5 8]\n",
      "[1 3 4 3 8 7 8 7 2 7 4 2 3 0 5 0 8 1 3 4 7 7 6 1 1 8 1 0 7 7 5 8]\n",
      "\u001b[1m1/1\u001b[0m \u001b[32m━━━━━━━━━━━━━━━━━━━━\u001b[0m\u001b[37m\u001b[0m \u001b[1m0s\u001b[0m 66ms/step\n",
      "[1 5 4 0 8 7 8 7 3 7 4 2 1 0 5 4 8 4 3 1 7 7 2 2 0 8 1 0 7 7 3 2]\n",
      "[3 4 1 0 6 8 7 2 4 1 6 3 2 3 3 6 1 8 2 0 7 7 5 2 0 0 5 3 8 3 0 4]\n",
      "\u001b[1m1/1\u001b[0m \u001b[32m━━━━━━━━━━━━━━━━━━━━\u001b[0m\u001b[37m\u001b[0m \u001b[1m0s\u001b[0m 64ms/step\n",
      "[3 4 1 2 6 8 7 2 1 4 6 3 2 3 1 6 2 8 2 0 7 8 2 1 0 0 5 0 8 3 0 4]\n",
      "[1 8 0 7 4 3 0 7 8 3 5 3 8 2 2 5 4 3 5 7 0 6 6 5 6 4 5 7 0 6 5 3]\n",
      "\u001b[1m1/1\u001b[0m \u001b[32m━━━━━━━━━━━━━━━━━━━━\u001b[0m\u001b[37m\u001b[0m \u001b[1m0s\u001b[0m 66ms/step\n",
      "[1 8 0 7 1 3 0 7 8 4 5 4 8 5 2 5 1 1 5 7 0 6 2 5 6 4 5 7 0 6 5 3]\n",
      "[2 8 8 0 8 3 1 7 2 4 1 1 6 3 1 6 5 8 8 4 4 1 4 7 7 1 0 2 2 4 7 1]\n",
      "\u001b[1m1/1\u001b[0m \u001b[32m━━━━━━━━━━━━━━━━━━━━\u001b[0m\u001b[37m\u001b[0m \u001b[1m0s\u001b[0m 74ms/step\n",
      "[2 8 8 1 8 3 1 7 2 4 1 4 5 3 1 2 5 8 8 4 4 1 5 7 7 1 2 2 2 1 7 3]\n",
      "[4 3 7 5 1 2 7 3 2 7 5 1 8 0 4 8 7 6 2 6 4 2 7 2 0 8 7 8 3 8 6 3]\n",
      "\u001b[1m1/1\u001b[0m \u001b[32m━━━━━━━━━━━━━━━━━━━━\u001b[0m\u001b[37m\u001b[0m \u001b[1m0s\u001b[0m 66ms/step\n",
      "[4 3 7 5 4 2 7 3 4 7 5 1 8 0 4 2 7 6 2 6 4 2 7 2 0 4 7 8 3 8 6 3]\n",
      "[2 6 5 7 4 6 2 6 0 1 1 6 7 1 3 6 5 0 5 5 0 4 4 2 1 2 5 2 6 1 8 8]\n",
      "\u001b[1m1/1\u001b[0m \u001b[32m━━━━━━━━━━━━━━━━━━━━\u001b[0m\u001b[37m\u001b[0m \u001b[1m0s\u001b[0m 66ms/step\n",
      "[2 2 2 7 2 2 2 6 4 5 1 6 7 1 3 6 5 0 5 5 0 4 2 2 1 2 5 2 6 1 8 8]\n",
      "[7 4 1 3 4 6 2 0 3 7 6 0 6 8 1 8 0 2 5 7 3 8 1 3 2 5 8 1 5 0 5 1]\n",
      "\u001b[1m1/1\u001b[0m \u001b[32m━━━━━━━━━━━━━━━━━━━━\u001b[0m\u001b[37m\u001b[0m \u001b[1m0s\u001b[0m 65ms/step\n",
      "[7 1 1 4 4 6 2 0 0 7 6 0 6 8 5 8 0 2 5 7 3 8 1 3 4 8 8 1 5 0 5 3]\n",
      "[0 7 2 0 8 3 4 6 0 8 0 4 4 1 7 1 3 6 7 7 4 4 1 1 3 0 3 8 3 6 4 5]\n",
      "\u001b[1m1/1\u001b[0m \u001b[32m━━━━━━━━━━━━━━━━━━━━\u001b[0m\u001b[37m\u001b[0m \u001b[1m0s\u001b[0m 64ms/step\n",
      "[0 7 2 0 8 1 4 6 0 8 0 2 4 1 7 1 0 6 7 7 4 4 4 1 3 0 1 7 3 5 4 5]\n",
      "[2 0 3 5 4 0 6 8 5 3 3 5 5 6 1 0 3 0 0 0 8 3 4 7 7 3 8 4 6 6 0 2]\n",
      "\u001b[1m1/1\u001b[0m \u001b[32m━━━━━━━━━━━━━━━━━━━━\u001b[0m\u001b[37m\u001b[0m \u001b[1m0s\u001b[0m 64ms/step\n",
      "[2 0 3 5 4 0 6 8 5 3 0 5 5 6 3 0 3 0 0 1 8 3 4 7 7 3 8 2 6 6 0 1]\n",
      "[1 5 2 1 2 5 0 4 8 1 4 7 1 5 5 4 3 6 8 3 4 8 8 6 4 4 4 7 5 8 4 4]\n",
      "\u001b[1m1/1\u001b[0m \u001b[32m━━━━━━━━━━━━━━━━━━━━\u001b[0m\u001b[37m\u001b[0m \u001b[1m0s\u001b[0m 66ms/step\n",
      "[1 1 2 5 2 7 0 4 6 4 4 7 2 5 5 4 4 6 8 4 4 8 8 6 4 3 4 7 5 8 4 4]\n",
      "[4 0 8 1 6 7 2 5 4 8 3 8 4 6 1 2 2 8 0 4 8 3 2 6 1 4 1 5 1 6 0 0]\n",
      "\u001b[1m1/1\u001b[0m \u001b[32m━━━━━━━━━━━━━━━━━━━━\u001b[0m\u001b[37m\u001b[0m \u001b[1m0s\u001b[0m 65ms/step\n",
      "[4 0 8 1 8 7 2 5 4 8 3 2 4 6 1 2 2 8 0 4 8 0 1 6 1 4 3 5 1 6 0 1]\n",
      "[0 6 8 8 3 6 8 7 7 6 2 8 3 3 8 7 4 1 0 1 4 8 4 4 0 2 5 4 5 3 6 4]\n",
      "\u001b[1m1/1\u001b[0m \u001b[32m━━━━━━━━━━━━━━━━━━━━\u001b[0m\u001b[37m\u001b[0m \u001b[1m0s\u001b[0m 64ms/step\n",
      "[0 6 8 8 0 6 8 7 7 6 2 8 0 1 8 7 4 1 0 1 3 8 4 4 5 5 5 4 5 4 6 4]\n",
      "[6 2 1 0 1 0 6 6 3 2 4 7 8 7 4 2 8 0 1 2 2 4 2 4 4 5 1 1 5 8 1 4]\n",
      "\u001b[1m1/1\u001b[0m \u001b[32m━━━━━━━━━━━━━━━━━━━━\u001b[0m\u001b[37m\u001b[0m \u001b[1m0s\u001b[0m 70ms/step\n",
      "[6 4 1 0 5 4 6 7 3 2 4 7 8 7 4 2 8 0 1 5 2 0 3 4 0 2 1 4 5 8 1 0]\n",
      "[4 8 1 7 6 8 1 5 2 4 2 6 7 6 1 3 5 7 2 6 6 6 1 2 5 0 4 4 1 0 5 5]\n",
      "\u001b[1m1/1\u001b[0m \u001b[32m━━━━━━━━━━━━━━━━━━━━\u001b[0m\u001b[37m\u001b[0m \u001b[1m0s\u001b[0m 68ms/step\n",
      "[4 8 1 7 2 8 1 5 2 4 2 6 7 2 1 0 5 7 2 2 6 8 1 2 5 0 2 4 1 0 5 8]\n",
      "[3 3 1 2 4 1 1 1 3 2 3 8 1 1 8 1 5 7 7 3 8 4 1 6 7 1 7 5 7 3 6 3]\n",
      "\u001b[1m1/1\u001b[0m \u001b[32m━━━━━━━━━━━━━━━━━━━━\u001b[0m\u001b[37m\u001b[0m \u001b[1m0s\u001b[0m 66ms/step\n",
      "[4 3 5 4 4 1 1 1 4 2 3 8 1 1 8 4 5 5 7 5 8 4 1 6 7 1 7 5 7 3 6 3]\n",
      "[1 0 5 3 4 5 8 4 2 4 3 8 6 1 2 5 0 2 7 5 7 5 2 7 8 8 0 7 5 4 7 7]\n",
      "\u001b[1m1/1\u001b[0m \u001b[32m━━━━━━━━━━━━━━━━━━━━\u001b[0m\u001b[37m\u001b[0m \u001b[1m0s\u001b[0m 64ms/step\n",
      "[1 0 2 3 4 5 8 4 4 4 0 8 6 1 1 5 0 2 7 5 7 5 1 7 8 8 0 7 5 4 7 7]\n",
      "[5 1 6 5 8 2 1 8 2 5 8 3 7 8 3 4 8 7 1 1 0 3 5 0 5 1 7 4 6 5 3 1]\n",
      "\u001b[1m1/1\u001b[0m \u001b[32m━━━━━━━━━━━━━━━━━━━━\u001b[0m\u001b[37m\u001b[0m \u001b[1m0s\u001b[0m 66ms/step\n",
      "[1 1 6 2 8 2 1 8 2 5 2 3 7 8 2 4 8 7 1 1 0 3 5 0 5 1 7 4 6 5 1 1]\n",
      "[0 4 6 1 0 1 1 8 1 7 4 8 1 6 0 3 7 6 2 7 0 2 4 1 0 8 4 4 1 2 3 6]\n",
      "\u001b[1m1/1\u001b[0m \u001b[32m━━━━━━━━━━━━━━━━━━━━\u001b[0m\u001b[37m\u001b[0m \u001b[1m0s\u001b[0m 65ms/step\n",
      "[0 4 6 1 0 1 1 8 1 7 4 8 1 6 0 3 7 6 5 7 0 2 3 5 0 8 4 1 1 5 3 6]\n",
      "[6 2 8 1 3 6 8 6 5 7 3 2 4 3 4 2 1 5 6 0 7 0 1 8 2 0 2 5 6 3 7 0]\n",
      "\u001b[1m1/1\u001b[0m \u001b[32m━━━━━━━━━━━━━━━━━━━━\u001b[0m\u001b[37m\u001b[0m \u001b[1m0s\u001b[0m 67ms/step\n",
      "[6 2 8 1 3 6 8 5 5 7 3 2 4 3 0 3 1 5 6 0 7 0 1 8 2 0 1 5 6 0 7 0]\n",
      "[2 4 8 2 2 8 2 5 4 1 2 0 8 3 8 2 8 1 0 0 3 5 3 4 8 8 2 7 2 5 0 0]\n",
      "\u001b[1m1/1\u001b[0m \u001b[32m━━━━━━━━━━━━━━━━━━━━\u001b[0m\u001b[37m\u001b[0m \u001b[1m0s\u001b[0m 64ms/step\n",
      "[2 4 8 4 2 8 2 5 4 1 2 0 8 1 8 2 0 1 4 0 3 5 3 5 8 8 4 7 4 5 3 0]\n",
      "[5 1 0 3 1 6 3 5 0 7 1 1 4 3 6 4 0 6 3 1 6 4 4 7 3 2 6 4 1 6 6 4]\n",
      "\u001b[1m1/1\u001b[0m \u001b[32m━━━━━━━━━━━━━━━━━━━━\u001b[0m\u001b[37m\u001b[0m \u001b[1m0s\u001b[0m 66ms/step\n",
      "[5 1 0 0 1 6 3 5 0 7 1 1 2 3 6 3 0 5 1 1 6 4 4 7 1 2 6 2 1 6 6 1]\n",
      "[5 7 4 3 8 3 0 7 3 6 3 0 4 1 7 1 7 2 6 6 4 6 1 8 5 8 6 1 4 2 5 1]\n",
      "\u001b[1m1/1\u001b[0m \u001b[32m━━━━━━━━━━━━━━━━━━━━\u001b[0m\u001b[37m\u001b[0m \u001b[1m0s\u001b[0m 67ms/step\n",
      "[5 7 2 3 8 3 4 7 3 6 3 0 0 1 7 1 7 2 2 6 4 6 1 8 5 8 6 1 1 2 5 1]\n",
      "[1 0 2 1 2 1 3 3 5 6 5 6 7 5 5 2 4 8 1 3 8 6 3 2 0 1 6 7 5 2 4 7]\n",
      "\u001b[1m1/1\u001b[0m \u001b[32m━━━━━━━━━━━━━━━━━━━━\u001b[0m\u001b[37m\u001b[0m \u001b[1m0s\u001b[0m 67ms/step\n",
      "[0 3 2 1 4 1 3 3 0 6 5 6 7 2 2 2 4 8 1 4 8 0 3 2 0 1 6 7 5 2 4 7]\n",
      "[1 6 4 6 1 6 4 5 2 8 2 6 1 2 1 5 4 1 8 4 3 2 1 4 5 3 0 3 0 8 8 3]\n",
      "\u001b[1m1/1\u001b[0m \u001b[32m━━━━━━━━━━━━━━━━━━━━\u001b[0m\u001b[37m\u001b[0m \u001b[1m0s\u001b[0m 65ms/step\n",
      "[5 6 4 6 1 6 4 2 2 8 2 2 3 5 1 5 2 1 7 4 0 2 1 4 5 0 0 3 0 8 8 3]\n",
      "[1 1 5 6 8 0 0 0 0 3 2 6 0 5 5 8 6 6 7 3 7 6 0 6 0 2 6 3 8 0 6 0]\n",
      "\u001b[1m1/1\u001b[0m \u001b[32m━━━━━━━━━━━━━━━━━━━━\u001b[0m\u001b[37m\u001b[0m \u001b[1m0s\u001b[0m 67ms/step\n",
      "[5 1 5 6 8 0 3 0 0 3 4 6 3 1 5 8 6 6 7 0 7 6 4 6 3 2 6 3 8 0 6 0]\n",
      "[7 1 7 3 7 2 1 7 4 7 3 0 0 5 4 4 2 4 0 5 4 3 8 7 3 8 4 0 8 3 3 2]\n",
      "\u001b[1m1/1\u001b[0m \u001b[32m━━━━━━━━━━━━━━━━━━━━\u001b[0m\u001b[37m\u001b[0m \u001b[1m0s\u001b[0m 66ms/step\n",
      "[7 0 7 4 7 2 1 7 2 7 3 3 0 5 4 4 2 2 0 5 4 3 8 7 4 8 4 0 8 3 3 2]\n",
      "[6 8 5 7 3 7 3 5 6 2 8 3 2 3 1 8 1 3 8 3 6 2 3 7 1 4 6 8 3 8 7 1]\n",
      "\u001b[1m1/1\u001b[0m \u001b[32m━━━━━━━━━━━━━━━━━━━━\u001b[0m\u001b[37m\u001b[0m \u001b[1m0s\u001b[0m 74ms/step\n",
      "[6 8 5 7 4 7 3 5 5 4 8 0 2 3 1 8 1 3 8 3 6 2 4 7 1 1 6 8 1 0 6 1]\n",
      "[8 8 3 5 8 5 4 3 5 8 2 7 5 3 7 0 0 8 3 3 8 2 4 2 2 7 7 4 0 2 1 8]\n",
      "\u001b[1m1/1\u001b[0m \u001b[32m━━━━━━━━━━━━━━━━━━━━\u001b[0m\u001b[37m\u001b[0m \u001b[1m0s\u001b[0m 67ms/step\n",
      "[8 8 3 2 8 5 4 3 4 8 2 7 5 3 7 0 0 8 3 3 8 2 4 6 4 7 8 4 3 2 5 8]\n",
      "[4 0 3 3 0 3 4 1 6 7 1 6 2 5 7 4 7 2 5 5 4 7 6 1 7 2 7 3 8 7 2 6]\n",
      "\u001b[1m1/1\u001b[0m \u001b[32m━━━━━━━━━━━━━━━━━━━━\u001b[0m\u001b[37m\u001b[0m \u001b[1m0s\u001b[0m 67ms/step\n",
      "[4 0 3 3 0 3 4 1 6 7 1 6 3 5 7 1 7 4 5 5 4 7 6 1 7 2 7 8 8 7 1 8]\n",
      "[0 6 3 5 3 4 2 0 7 4 7 7 1 3 6 0 3 3 5 3 6 4 6 8 1 5 4 7 4 0 3 0]\n",
      "\u001b[1m1/1\u001b[0m \u001b[32m━━━━━━━━━━━━━━━━━━━━\u001b[0m\u001b[37m\u001b[0m \u001b[1m0s\u001b[0m 65ms/step\n",
      "[0 6 3 5 3 4 8 0 7 4 7 7 1 2 6 0 3 3 5 3 6 4 6 8 1 5 0 7 1 4 3 1]\n",
      "[1 0 2 2 4 8 8 6 1 6 3 3 5 4 4 4 3 5 4 8 1 4 8 1 4 4 2 5 3 7 8 1]\n",
      "\u001b[1m1/1\u001b[0m \u001b[32m━━━━━━━━━━━━━━━━━━━━\u001b[0m\u001b[37m\u001b[0m \u001b[1m0s\u001b[0m 69ms/step\n",
      "[1 0 4 2 4 8 8 6 1 6 4 3 5 4 3 2 3 5 4 8 1 4 8 1 4 4 2 5 4 7 8 1]\n",
      "[6 0 4 3 0 2 6 6 3 4 7 1 0 5 1 3 2 0 1 4 4 7 7 2 6 2 7 6 5 3 8 8]\n",
      "\u001b[1m1/1\u001b[0m \u001b[32m━━━━━━━━━━━━━━━━━━━━\u001b[0m\u001b[37m\u001b[0m \u001b[1m0s\u001b[0m 65ms/step\n",
      "[6 3 4 3 3 2 6 8 3 4 7 1 0 5 1 3 4 0 4 4 4 7 7 2 6 2 7 6 5 3 8 8]\n",
      "[7 8 3 7 7 1 1 8 4 7 7 2 7 3 6 2 6 7 1 7 5 3 6 2 1 3 3 0 4 8 2 1]\n",
      "\u001b[1m1/1\u001b[0m \u001b[32m━━━━━━━━━━━━━━━━━━━━\u001b[0m\u001b[37m\u001b[0m \u001b[1m0s\u001b[0m 65ms/step\n",
      "[7 8 3 7 7 1 3 5 4 7 7 2 7 3 7 5 6 6 3 7 5 1 6 6 2 3 1 0 4 8 2 3]\n",
      "[6 4 7 6 1 4 5 4 0 3 1 4 1 1 2 2 0 8 6 2 8 8 6 2 3 4 6 4 8 1 8 0]\n",
      "\u001b[1m1/1\u001b[0m \u001b[32m━━━━━━━━━━━━━━━━━━━━\u001b[0m\u001b[37m\u001b[0m \u001b[1m0s\u001b[0m 66ms/step\n",
      "[6 3 7 6 2 2 5 1 3 0 1 4 1 1 2 2 3 8 6 3 2 5 6 2 0 4 5 4 8 3 8 0]\n",
      "[1 3 4 5 8 0 8 3 4 1 7 3 5 0 0 6 0 6 6 3 3 1 0 7 4 2 6 6 6 5 5 8]\n",
      "\u001b[1m1/1\u001b[0m \u001b[32m━━━━━━━━━━━━━━━━━━━━\u001b[0m\u001b[37m\u001b[0m \u001b[1m0s\u001b[0m 66ms/step\n",
      "[1 3 2 5 8 0 8 0 3 1 7 3 6 0 0 6 0 5 2 0 4 1 3 7 4 2 6 6 6 5 5 8]\n",
      "[7 7 5 4 7 6 5 3 3 1 6 1 0 2 0 3 7 1 1 7 0 5 2 1 6 4 4 1 8 7 7 8]\n",
      "\u001b[1m1/1\u001b[0m \u001b[32m━━━━━━━━━━━━━━━━━━━━\u001b[0m\u001b[37m\u001b[0m \u001b[1m0s\u001b[0m 68ms/step\n",
      "[7 7 5 4 7 6 5 3 1 1 6 1 0 2 3 3 7 1 3 7 4 5 2 0 6 0 4 1 8 7 7 8]\n",
      "[6 6 4 4 8 7 3 2 8 0 3 0 7 3 5 8 2 1 3 4 1 2 7 7 1 7 0 8 2 0 2 2]\n",
      "\u001b[1m1/1\u001b[0m \u001b[32m━━━━━━━━━━━━━━━━━━━━\u001b[0m\u001b[37m\u001b[0m \u001b[1m0s\u001b[0m 70ms/step\n",
      "[2 6 3 3 8 7 3 4 8 0 0 3 7 3 5 2 2 5 3 1 1 2 7 7 0 7 0 7 2 0 1 5]\n",
      "[4 7 7 2 3 7 2 2 3 0 3 1 5 5 2 3 0 8 3 5 8 2 5 6 5 3 3 5 3 4 2 8]\n",
      "\u001b[1m1/1\u001b[0m \u001b[32m━━━━━━━━━━━━━━━━━━━━\u001b[0m\u001b[37m\u001b[0m \u001b[1m0s\u001b[0m 65ms/step\n",
      "[4 7 7 2 0 7 2 2 3 0 3 5 5 5 2 3 0 8 3 5 8 2 5 6 5 3 3 5 3 4 2 8]\n",
      "[7 3 7 7 1 6 7 8 8 5 5 8 1 2 8 1 5 0 6 2 0 1 3 4 8 0 0 4 6 4 1 4]\n",
      "\u001b[1m1/1\u001b[0m \u001b[32m━━━━━━━━━━━━━━━━━━━━\u001b[0m\u001b[37m\u001b[0m \u001b[1m0s\u001b[0m 65ms/step\n",
      "[7 3 7 7 1 8 7 8 8 5 5 7 1 2 8 1 5 0 6 4 0 1 3 1 8 0 0 6 6 4 1 4]\n",
      "[5 3 0 7 6 8 1 4 7 1 1 3 2 2 8 1 3 7 6 0 3 4 4 2 1 2 0 3 6 0 5 1]\n",
      "\u001b[1m1/1\u001b[0m \u001b[32m━━━━━━━━━━━━━━━━━━━━\u001b[0m\u001b[37m\u001b[0m \u001b[1m0s\u001b[0m 68ms/step\n",
      "[5 3 3 7 6 8 1 4 7 1 0 1 2 2 6 4 3 7 6 0 0 4 1 2 1 2 3 4 6 0 5 1]\n",
      "[4 4 7 5 0 3 4 7 0 6 2 3 8 5 8 0 3 3 6 6 6 6 4 7 5 0 2 0 6 0 7 2]\n",
      "\u001b[1m1/1\u001b[0m \u001b[32m━━━━━━━━━━━━━━━━━━━━\u001b[0m\u001b[37m\u001b[0m \u001b[1m0s\u001b[0m 65ms/step\n",
      "[4 5 7 5 0 3 3 7 0 6 2 4 8 5 8 0 3 0 6 6 6 5 4 7 2 0 2 0 6 3 7 2]\n",
      "[4 2 5 5 1 5 5 6 6 7 2 5 7 4 5 4 8 6 7 7 6 4 8 7 1 8 6 2 1 8 5 6]\n",
      "\u001b[1m1/1\u001b[0m \u001b[32m━━━━━━━━━━━━━━━━━━━━\u001b[0m\u001b[37m\u001b[0m \u001b[1m0s\u001b[0m 67ms/step\n",
      "[4 2 2 5 1 5 5 6 6 7 6 5 7 4 5 4 8 5 7 7 6 2 8 7 1 8 6 1 3 8 5 6]\n",
      "[5 4 0 6 5 8 0 8 0 4 4 8 6 5 6 3 4 3 3 7 1 4 0 3 5 8 4 3 2 1 1 1]\n",
      "\u001b[1m1/1\u001b[0m \u001b[32m━━━━━━━━━━━━━━━━━━━━\u001b[0m\u001b[37m\u001b[0m \u001b[1m0s\u001b[0m 65ms/step\n",
      "[2 4 0 6 5 8 0 8 1 4 4 8 2 5 6 3 4 0 4 7 1 1 0 3 5 8 4 3 2 1 1 1]\n",
      "[1 0 1 0 4 1 6 0 5 3 2 5 5 8 0 8 5 7 7 1 2 6 0 0 5 8 7 6 5 6 2 0]\n",
      "\u001b[1m1/1\u001b[0m \u001b[32m━━━━━━━━━━━━━━━━━━━━\u001b[0m\u001b[37m\u001b[0m \u001b[1m0s\u001b[0m 67ms/step\n",
      "[1 3 1 1 1 1 6 2 2 3 2 5 5 8 0 8 0 7 7 1 2 6 1 3 5 8 7 6 5 6 1 0]\n",
      "[8 3 2 3 4 5 7 4 7 8 1 2 1 1 7 3 0 2 5 3 3 6 3 7 0 1 4 5 2 3 2 7]\n",
      "\u001b[1m1/1\u001b[0m \u001b[32m━━━━━━━━━━━━━━━━━━━━\u001b[0m\u001b[37m\u001b[0m \u001b[1m0s\u001b[0m 67ms/step\n",
      "[5 0 2 3 1 5 7 4 7 8 3 2 5 1 7 3 1 4 5 3 1 6 1 7 4 1 4 5 3 3 0 7]\n",
      "[7 5 1 2 7 5 6 0 6 1 3 6 4 2 7 2 7 5 0 5 0 3 0 0 3 6 6 6 6 8 8 5]\n",
      "\u001b[1m1/1\u001b[0m \u001b[32m━━━━━━━━━━━━━━━━━━━━\u001b[0m\u001b[37m\u001b[0m \u001b[1m0s\u001b[0m 64ms/step\n",
      "[7 5 1 4 7 8 6 0 6 5 3 6 4 4 7 2 7 5 3 5 0 0 0 0 3 6 6 1 8 8 8 5]\n",
      "[0 7 0 3 4 4 3 8 3 8 6 4 5 4 3 4 0 5 0 4 1 8 0 6 1 5 2 4 3 7 0 4]\n",
      "\u001b[1m1/1\u001b[0m \u001b[32m━━━━━━━━━━━━━━━━━━━━\u001b[0m\u001b[37m\u001b[0m \u001b[1m0s\u001b[0m 62ms/step\n",
      "[0 7 0 3 0 4 0 7 1 8 6 4 5 4 3 4 0 5 0 4 1 8 0 6 3 5 2 6 1 7 3 0]\n",
      "[6 0 7 1 7 3 4 4 3 0 3 0 1 7 0 5 0 1 5 3 2 1 6 3 1 8 8 5 0 2 0 4]\n",
      "\u001b[1m1/1\u001b[0m \u001b[32m━━━━━━━━━━━━━━━━━━━━\u001b[0m\u001b[37m\u001b[0m \u001b[1m0s\u001b[0m 64ms/step\n",
      "[6 0 6 4 7 3 4 4 3 0 3 0 4 7 0 5 0 4 8 3 2 1 6 3 1 8 5 5 4 2 0 1]\n",
      "[0 4 3 8 0 8 1 3 2 1 7 2 2 0 3 6 8 4 3 4 3 1 1 5 7 3 6 6 3 4 4 5]\n",
      "\u001b[1m1/1\u001b[0m \u001b[32m━━━━━━━━━━━━━━━━━━━━\u001b[0m\u001b[37m\u001b[0m \u001b[1m0s\u001b[0m 64ms/step\n",
      "[0 4 3 8 4 8 3 0 2 1 7 2 2 0 1 6 8 0 3 4 0 5 1 5 7 3 6 6 1 4 4 5]\n",
      "[0 4 8 2 4 0 1 5 6 4 4 7 2 2 5 6 5 4 6 5 2 4 8 2 7 6 1 4 6 2 5 7]\n",
      "\u001b[1m1/1\u001b[0m \u001b[32m━━━━━━━━━━━━━━━━━━━━\u001b[0m\u001b[37m\u001b[0m \u001b[1m0s\u001b[0m 64ms/step\n",
      "[0 4 8 2 4 0 2 5 6 4 4 7 2 2 5 8 1 5 6 2 2 4 8 6 7 6 1 3 6 2 5 7]\n",
      "[0 6 5 8 5 8 2 4 0 1 0 6 2 1 3 1 0 3 0 0 5 3 4 1 2 7 0 6 6 6 2 5]\n",
      "\u001b[1m1/1\u001b[0m \u001b[32m━━━━━━━━━━━━━━━━━━━━\u001b[0m\u001b[37m\u001b[0m \u001b[1m0s\u001b[0m 67ms/step\n",
      "[0 6 5 8 3 8 2 3 0 2 0 6 2 1 3 1 0 3 0 4 4 3 4 1 2 7 0 6 6 6 2 5]\n",
      "[4 5 6 5 5 4 4 8 0 0 7 0 4 7 2 6 7 1 2 6 7 1 8 4 0 1 7 4 5 2 8 7]\n",
      "\u001b[1m1/1\u001b[0m \u001b[32m━━━━━━━━━━━━━━━━━━━━\u001b[0m\u001b[37m\u001b[0m \u001b[1m0s\u001b[0m 64ms/step\n",
      "[4 5 6 5 5 4 3 8 0 0 7 0 2 7 2 6 7 1 5 6 7 0 8 4 2 3 8 2 5 2 8 7]\n",
      "[0 6 1 8 8 4 1 4 0 7 2 7 3 8 4 5 2 8 4 8 8 3 8 0 1 2 1 2 2 8 6 8]\n",
      "\u001b[1m1/1\u001b[0m \u001b[32m━━━━━━━━━━━━━━━━━━━━\u001b[0m\u001b[37m\u001b[0m \u001b[1m0s\u001b[0m 66ms/step\n",
      "[0 6 1 8 8 2 1 3 0 7 4 7 3 6 4 6 5 8 3 8 8 3 5 0 1 0 2 2 2 6 2 8]\n",
      "[0 7 3 2 0 8 3 8 0 8 4 1 1 5 4 8 4 1 3 7 4 0 0 7 0 6 8 6 4 7 5 6]\n",
      "\u001b[1m1/1\u001b[0m \u001b[32m━━━━━━━━━━━━━━━━━━━━\u001b[0m\u001b[37m\u001b[0m \u001b[1m0s\u001b[0m 67ms/step\n",
      "[0 7 3 5 0 8 3 8 3 8 4 0 1 5 4 4 4 1 3 7 4 5 0 7 3 6 8 6 4 7 5 2]\n",
      "[2 7 5 8 4 4 8 0 5 4 6 4 5 4 0 8 3 0 1 4 6 4 5 1 6 6 8 3 2 0 7 1]\n",
      "\u001b[1m1/1\u001b[0m \u001b[32m━━━━━━━━━━━━━━━━━━━━\u001b[0m\u001b[37m\u001b[0m \u001b[1m0s\u001b[0m 65ms/step\n",
      "[2 7 5 8 4 4 8 0 5 2 6 3 5 4 3 8 3 0 1 1 6 4 6 1 6 6 8 4 2 3 7 5]\n",
      "[6 7 0 6 0 1 8 3 7 7 5 1 7 8 7 0 6 5 4 4 6 6 7 1 6 1 0 3 8 3 6 5]\n",
      "\u001b[1m1/1\u001b[0m \u001b[32m━━━━━━━━━━━━━━━━━━━━\u001b[0m\u001b[37m\u001b[0m \u001b[1m0s\u001b[0m 66ms/step\n",
      "[6 7 0 2 0 1 8 3 7 7 5 1 7 8 7 4 6 5 4 4 6 6 7 2 6 1 6 3 8 0 1 5]\n",
      "[1 3 8 6 2 6 6 8 4 0 6 4 6 4 6 6 3 0 5 4 0 1 1 0 1 5 8 2 3 2 3 8]\n",
      "\u001b[1m1/1\u001b[0m \u001b[32m━━━━━━━━━━━━━━━━━━━━\u001b[0m\u001b[37m\u001b[0m \u001b[1m0s\u001b[0m 65ms/step\n",
      "[4 1 8 6 2 6 6 7 1 0 6 4 6 3 6 6 0 0 5 1 0 1 3 0 1 5 8 3 3 3 3 8]\n",
      "[1 1 2 2 7 1 3 3 7 4 5 7 4 8 1 3 0 7 2 7 2 0 4 8 6 6 5 4 1 3 6 3]\n",
      "\u001b[1m1/1\u001b[0m \u001b[32m━━━━━━━━━━━━━━━━━━━━\u001b[0m\u001b[37m\u001b[0m \u001b[1m0s\u001b[0m 64ms/step\n",
      "[1 1 2 1 7 3 3 5 7 4 5 7 4 8 2 3 4 7 6 7 2 0 4 8 6 6 5 3 1 3 6 3]\n",
      "[3 6 4 1 4 8 0 0 3 1 3 4 0 5 7 3 7 4 8 2 8 5 3 8 0 3 3 3 0 5 3 1]\n",
      "\u001b[1m1/1\u001b[0m \u001b[32m━━━━━━━━━━━━━━━━━━━━\u001b[0m\u001b[37m\u001b[0m \u001b[1m0s\u001b[0m 65ms/step\n",
      "[0 6 4 4 2 8 0 0 3 1 3 4 0 2 7 3 7 2 1 2 8 5 3 8 0 3 3 3 0 6 3 3]\n",
      "[7 5 8 8 2 6 3 6 5 4 0 5 5 3 1 2 5 4 1 5 0 1 5 3 8 3 6 2 2 4 1 8]\n",
      "\u001b[1m1/1\u001b[0m \u001b[32m━━━━━━━━━━━━━━━━━━━━\u001b[0m\u001b[37m\u001b[0m \u001b[1m0s\u001b[0m 65ms/step\n",
      "[7 5 8 8 2 6 3 6 5 4 4 5 5 3 1 2 5 2 1 5 3 2 5 1 8 3 6 2 2 3 1 8]\n",
      "[8 1 3 1 6 7 1 4 5 2 6 7 4 5 1 8 7 3 3 7 1 8 2 0 0 3 6 8 0 0 6 1]\n",
      "\u001b[1m1/1\u001b[0m \u001b[32m━━━━━━━━━━━━━━━━━━━━\u001b[0m\u001b[37m\u001b[0m \u001b[1m0s\u001b[0m 64ms/step\n",
      "[5 1 3 1 6 7 1 3 5 2 4 7 2 5 1 8 7 3 3 7 4 8 2 0 0 0 6 8 0 0 6 1]\n",
      "[2 0 2 1 6 0 3 5 3 3 6 5 4 6 8 4 7 0 4 5 8 8 1 7 1 7 3 7 0 3 0 6]\n",
      "\u001b[1m1/1\u001b[0m \u001b[32m━━━━━━━━━━━━━━━━━━━━\u001b[0m\u001b[37m\u001b[0m \u001b[1m0s\u001b[0m 65ms/step\n",
      "[2 0 2 1 6 0 2 1 3 3 6 5 4 6 8 2 7 0 4 5 8 8 4 7 1 7 1 7 0 3 0 6]\n",
      "[2 7 3 3 7 5 5 8 8 3 2 3 0 8 1 1 5 2 8 5 2 8 4 4 2 8 2 1 0 7 5 0]\n",
      "\u001b[1m1/1\u001b[0m \u001b[32m━━━━━━━━━━━━━━━━━━━━\u001b[0m\u001b[37m\u001b[0m \u001b[1m0s\u001b[0m 72ms/step\n",
      "[2 7 3 3 7 5 5 8 8 3 2 3 0 8 2 2 5 1 8 5 2 8 4 4 2 8 2 3 6 7 5 0]\n",
      "[5 0 6 0 5 1 2 6 3 0 6 2 8 3 7 3 6 0 2 4 8 0 3 8 6 0 8 2 0 5 8 7]\n",
      "\u001b[1m1/1\u001b[0m \u001b[32m━━━━━━━━━━━━━━━━━━━━\u001b[0m\u001b[37m\u001b[0m \u001b[1m0s\u001b[0m 65ms/step\n",
      "[5 4 6 0 5 5 2 6 3 0 6 2 8 3 7 3 6 3 2 4 8 1 3 8 6 0 8 2 0 5 8 7]\n",
      "[5 6 0 5 0 3 4 0 4 3 0 3 2 1 2 6 7 8 3 7 5 8 3 4 1 7 4 1 1 2 8 4]\n",
      "\u001b[1m1/1\u001b[0m \u001b[32m━━━━━━━━━━━━━━━━━━━━\u001b[0m\u001b[37m\u001b[0m \u001b[1m0s\u001b[0m 64ms/step\n",
      "[3 6 0 5 0 3 4 0 3 3 0 3 2 1 2 6 7 8 3 7 5 8 3 4 4 7 4 1 6 5 8 3]\n",
      "[2 3 5 2 1 5 6 4 3 8 7 4 3 4 2 4 0 2 6 4 6 8 7 6 6 5 0 0 5 0 7 6]\n",
      "\u001b[1m1/1\u001b[0m \u001b[32m━━━━━━━━━━━━━━━━━━━━\u001b[0m\u001b[37m\u001b[0m \u001b[1m0s\u001b[0m 65ms/step\n",
      "[2 3 5 4 3 5 6 3 0 8 7 4 3 4 2 4 0 2 6 4 6 8 7 6 5 5 0 0 5 3 7 6]\n",
      "[3 2 1 0 7 8 3 6 6 1 5 8 4 4 1 1 1 5 5 4 7 0 5 7 8 4 4 4 1 6 2 7]\n",
      "\u001b[1m1/1\u001b[0m \u001b[32m━━━━━━━━━━━━━━━━━━━━\u001b[0m\u001b[37m\u001b[0m \u001b[1m0s\u001b[0m 64ms/step\n",
      "[3 6 0 0 7 8 1 6 6 1 8 5 4 1 1 1 1 5 5 4 7 3 5 7 8 0 2 4 1 6 2 7]\n",
      "[0 4 8 4 1 7 3 7 3 3 6 7 6 8 8 2 0 0 6 3 5 8 7 3 6 7 6 7 7 8 6 5]\n",
      "\u001b[1m1/1\u001b[0m \u001b[32m━━━━━━━━━━━━━━━━━━━━\u001b[0m\u001b[37m\u001b[0m \u001b[1m0s\u001b[0m 66ms/step\n",
      "[3 4 7 4 1 7 0 7 1 3 6 7 2 8 8 2 3 0 6 3 5 8 7 3 6 7 5 7 7 8 6 5]\n",
      "[0 5 5 8 5 5 8 7 1 3 7 5 2 4 3 4 4 4 6 5 7 7 1 6 7 2 6 1 4 3 7 8]\n",
      "\u001b[1m1/1\u001b[0m \u001b[32m━━━━━━━━━━━━━━━━━━━━\u001b[0m\u001b[37m\u001b[0m \u001b[1m0s\u001b[0m 65ms/step\n",
      "[0 5 5 8 5 5 8 7 1 3 7 1 4 4 1 3 3 3 6 5 7 7 0 6 7 2 6 1 4 0 8 8]\n",
      "[3 2 3 0 0 3 3 7 1 3 3 7 7 1 6 8 1 5 8 0 4 7 8 6 0 4 3 0 1 6 5 8]\n",
      "\u001b[1m1/1\u001b[0m \u001b[32m━━━━━━━━━━━━━━━━━━━━\u001b[0m\u001b[37m\u001b[0m \u001b[1m0s\u001b[0m 74ms/step\n",
      "[0 4 3 0 0 3 0 7 1 3 1 7 7 1 6 8 5 5 8 0 4 7 8 6 0 0 4 0 0 6 5 8]\n",
      "[1 3 5 5 0 2 4 1 1 4 5 5 5 8 0 8 0 6 7 2 4 7 3 3 0 3 4 7 2 2 6 3]\n",
      "\u001b[1m1/1\u001b[0m \u001b[32m━━━━━━━━━━━━━━━━━━━━\u001b[0m\u001b[37m\u001b[0m \u001b[1m0s\u001b[0m 63ms/step\n",
      "[1 3 5 5 0 6 2 3 3 5 5 5 5 8 0 8 0 6 7 2 3 7 3 0 0 3 4 5 8 4 6 3]\n",
      "[0 1 3 3 8 2 7 7 0 1 5 3 7 8 6 4 1 2 0 4 7 2 5 5 3 7 3 2 5 8 1 8]\n",
      "\u001b[1m1/1\u001b[0m \u001b[32m━━━━━━━━━━━━━━━━━━━━\u001b[0m\u001b[37m\u001b[0m \u001b[1m0s\u001b[0m 65ms/step\n",
      "[0 1 3 0 8 0 7 7 0 0 5 0 7 8 6 4 4 2 3 3 7 2 5 2 3 7 3 2 5 8 1 8]\n",
      "[6 5 7 4 7 5 4 3 4 1 8 0 4 3 3 5 8 6 0 3 7 2 8 1 6 7 0 1 3 8 0 1]\n",
      "\u001b[1m1/1\u001b[0m \u001b[32m━━━━━━━━━━━━━━━━━━━━\u001b[0m\u001b[37m\u001b[0m \u001b[1m0s\u001b[0m 64ms/step\n",
      "[6 5 7 4 7 5 4 3 2 1 8 0 4 3 3 5 8 6 0 0 7 2 8 1 6 7 0 1 3 8 0 1]\n",
      "[7 1 6 6 7 3 5 3 1 3 1 2 3 1 1 0 2 5 3 4 4 0 8 7 1 8 5 3 1 5 1 7]\n",
      "\u001b[1m1/1\u001b[0m \u001b[32m━━━━━━━━━━━━━━━━━━━━\u001b[0m\u001b[37m\u001b[0m \u001b[1m0s\u001b[0m 66ms/step\n",
      "[7 0 6 6 7 1 5 0 1 3 1 2 3 2 0 0 4 5 4 4 2 0 8 7 5 8 5 3 4 5 6 7]\n",
      "[2 0 1 6 2 0 3 8 3 0 1 2 7 8 5 1 5 6 8 5 2 7 1 4 3 2 5 1 3 6 2 5]\n",
      "\u001b[1m1/1\u001b[0m \u001b[32m━━━━━━━━━━━━━━━━━━━━\u001b[0m\u001b[37m\u001b[0m \u001b[1m0s\u001b[0m 65ms/step\n",
      "[2 0 8 6 2 3 3 7 3 0 1 2 7 8 5 1 5 6 8 5 2 7 1 5 3 2 5 1 0 6 2 5]\n",
      "[3 3 4 8 5 3 3 3 3 1 7 5 3 4 6 6 2 3 6 3 4 5 5 1 4 1 2 0 3 7 0 7]\n",
      "\u001b[1m1/1\u001b[0m \u001b[32m━━━━━━━━━━━━━━━━━━━━\u001b[0m\u001b[37m\u001b[0m \u001b[1m0s\u001b[0m 63ms/step\n",
      "[1 0 4 8 5 1 3 3 3 1 7 5 3 4 6 8 2 0 6 1 2 5 5 1 4 1 2 0 0 7 0 7]\n",
      "[4 4 6 7 0 0 1 0 0 8 8 4 5 7 3 6 4 0 7 7 5 4 8 4 3 1 4 5 8 5 2 2]\n",
      "\u001b[1m1/1\u001b[0m \u001b[32m━━━━━━━━━━━━━━━━━━━━\u001b[0m\u001b[37m\u001b[0m \u001b[1m0s\u001b[0m 66ms/step\n",
      "[4 2 6 6 4 0 1 0 0 8 8 4 5 7 1 6 4 0 7 7 4 2 8 4 0 1 4 5 8 5 2 2]\n",
      "[4 2 0 1 6 0 4 3 3 4 1 5 3 0 4 0 8 0 0 7 0 5 1 1 7 4 7 8 1 8 8 2]\n",
      "\u001b[1m1/1\u001b[0m \u001b[32m━━━━━━━━━━━━━━━━━━━━\u001b[0m\u001b[37m\u001b[0m \u001b[1m0s\u001b[0m 64ms/step\n",
      "[2 2 0 6 6 0 4 1 1 4 4 5 0 0 3 0 8 0 3 7 0 5 1 0 7 4 7 8 1 8 8 2]\n",
      "[7 0 0 1 6 6 5 3 0 2 0 4 7 2 5 0 3 0 5 5 2 1 3 6 8 7 2 1 2 6 2 2]\n",
      "\u001b[1m1/1\u001b[0m \u001b[32m━━━━━━━━━━━━━━━━━━━━\u001b[0m\u001b[37m\u001b[0m \u001b[1m0s\u001b[0m 65ms/step\n",
      "[7 0 0 5 8 5 5 3 1 2 0 2 7 2 5 0 3 0 5 2 2 0 4 1 6 7 2 1 2 6 4 2]\n",
      "[4 1 2 3 7 3 4 5 1 2 7 8 0 5 5 1 7 1 1 3 2 4 8 4 8 4 2 8 6 4 3 3]\n",
      "\u001b[1m1/1\u001b[0m \u001b[32m━━━━━━━━━━━━━━━━━━━━\u001b[0m\u001b[37m\u001b[0m \u001b[1m0s\u001b[0m 65ms/step\n",
      "[4 1 2 3 7 3 4 1 4 2 7 8 0 5 1 3 7 3 1 3 2 4 8 2 8 4 2 8 6 4 3 4]\n",
      "[7 6 0 8 6 5 1 5 0 0 3 3 6 1 2 2 7 0 8 5 7 4 3 6 3 0 4 5 0 7 2 7]\n",
      "\u001b[1m1/1\u001b[0m \u001b[32m━━━━━━━━━━━━━━━━━━━━\u001b[0m\u001b[37m\u001b[0m \u001b[1m0s\u001b[0m 66ms/step\n",
      "[7 6 3 8 5 5 1 5 0 4 3 1 6 1 2 2 7 0 8 1 7 4 3 6 0 0 4 5 0 7 2 7]\n",
      "[6 5 8 4 7 1 7 7 2 8 8 1 0 8 8 5 2 6 2 2 0 5 5 6 0 1 1 3 2 1 5 2]\n",
      "\u001b[1m1/1\u001b[0m \u001b[32m━━━━━━━━━━━━━━━━━━━━\u001b[0m\u001b[37m\u001b[0m \u001b[1m0s\u001b[0m 64ms/step\n",
      "[6 5 8 4 7 1 7 7 2 8 8 1 0 8 5 5 1 6 2 2 0 5 5 5 0 1 1 3 2 1 5 2]\n",
      "[8 3 2 8 0 0 6 8 1 0 7 4 2 3 0 0 6 3 7 2 4 8 0 7 6 5 5 3 2 8 6 6]\n",
      "\u001b[1m1/1\u001b[0m \u001b[32m━━━━━━━━━━━━━━━━━━━━\u001b[0m\u001b[37m\u001b[0m \u001b[1m0s\u001b[0m 68ms/step\n",
      "[8 4 2 8 0 1 6 8 1 4 7 3 2 4 0 0 8 1 7 4 4 8 0 7 6 5 5 3 2 8 6 6]\n",
      "[8 8 4 5 5 6 7 8 4 8 5 5 5 8 2 8 4 6 3 3 3 5 2 4 3 2 1 8 3 4 5 5]\n",
      "\u001b[1m1/1\u001b[0m \u001b[32m━━━━━━━━━━━━━━━━━━━━\u001b[0m\u001b[37m\u001b[0m \u001b[1m0s\u001b[0m 67ms/step\n",
      "[8 8 4 4 5 6 7 2 4 8 5 5 8 7 4 8 4 6 3 1 3 0 2 3 3 2 1 8 1 4 2 5]\n",
      "[6 3 7 5 2 0 0 6 0 5 0 1 7 0 4 6 1 0 7 8 0 1 5 3 7 0 2 4 1 6 1 0]\n",
      "\u001b[1m1/1\u001b[0m \u001b[32m━━━━━━━━━━━━━━━━━━━━\u001b[0m\u001b[37m\u001b[0m \u001b[1m0s\u001b[0m 67ms/step\n",
      "[6 3 7 5 4 0 0 6 0 5 4 1 7 3 5 6 1 1 7 8 3 1 5 0 7 3 2 4 1 6 4 0]\n",
      "[5 0 3 4 8 3 6 6 2 1 4 1 8 0 3 3 0 4 0 5 4 8 5 7 2 5 1 0 5 2 6 1]\n",
      "\u001b[1m1/1\u001b[0m \u001b[32m━━━━━━━━━━━━━━━━━━━━\u001b[0m\u001b[37m\u001b[0m \u001b[1m0s\u001b[0m 66ms/step\n",
      "[5 4 3 2 8 1 6 6 2 1 1 1 8 0 3 3 0 4 0 5 4 8 5 7 2 5 0 0 5 2 6 5]\n",
      "[2 2 4 8 5 8 3 3 3 8 1 8 4 8 3 2 2 2 7 3 4 3 5 7 8 1 6 5 5 6 5 4]\n",
      "\u001b[1m1/1\u001b[0m \u001b[32m━━━━━━━━━━━━━━━━━━━━\u001b[0m\u001b[37m\u001b[0m \u001b[1m0s\u001b[0m 69ms/step\n",
      "[2 2 3 8 5 8 1 3 4 8 5 8 4 8 3 2 2 2 7 0 4 0 5 7 8 3 6 5 8 6 5 3]\n",
      "[5 1 0 3 6 7 5 3 0 5 6 5 0 2 0 5 2 2 5 7 6 1 0 6 4 0 2 5 0 0 0 3]\n",
      "\u001b[1m1/1\u001b[0m \u001b[32m━━━━━━━━━━━━━━━━━━━━\u001b[0m\u001b[37m\u001b[0m \u001b[1m0s\u001b[0m 67ms/step\n",
      "[1 2 0 3 6 7 5 3 3 5 6 5 0 2 0 5 2 2 8 7 6 1 0 6 4 3 5 5 0 0 0 0]\n",
      "[4 3 6 8 8 2 1 5 4 8 4 7 4 7 7 6 0 8 5 2 5 7 1 3 1 2 8 2 5 5 0 2]\n",
      "\u001b[1m1/1\u001b[0m \u001b[32m━━━━━━━━━━━━━━━━━━━━\u001b[0m\u001b[37m\u001b[0m \u001b[1m0s\u001b[0m 65ms/step\n",
      "[4 0 6 6 6 2 1 5 4 8 4 7 4 7 7 6 0 8 5 2 4 7 1 3 4 2 8 3 5 5 0 2]\n",
      "[5 5 2 7 4 1 3 0 5 3 6 3 3 3 2 8 8 1 1 3 5 8 7 7 6 8 8 7 4 3 6 7]\n",
      "\u001b[1m1/1\u001b[0m \u001b[32m━━━━━━━━━━━━━━━━━━━━\u001b[0m\u001b[37m\u001b[0m \u001b[1m0s\u001b[0m 64ms/step\n",
      "[5 5 2 7 4 1 0 0 4 3 6 3 1 1 4 8 8 5 4 0 5 8 7 7 6 8 8 7 4 3 6 7]\n",
      "[1 1 5 8 1 8 0 8 7 4 0 6 0 4 0 0 6 2 6 2 2 2 0 4 5 4 4 0 5 5 8 8]\n",
      "\u001b[1m1/1\u001b[0m \u001b[32m━━━━━━━━━━━━━━━━━━━━\u001b[0m\u001b[37m\u001b[0m \u001b[1m0s\u001b[0m 67ms/step\n",
      "[1 1 5 6 1 8 0 8 5 4 0 6 0 4 0 4 6 2 8 2 2 2 0 4 5 1 4 0 5 5 8 8]\n",
      "[8 0 3 3 3 5 0 5 1 5 0 2 1 6 0 3 2 7 0 8 1 6 3 5 8 5 3 0 2 5 4 3]\n",
      "\u001b[1m1/1\u001b[0m \u001b[32m━━━━━━━━━━━━━━━━━━━━\u001b[0m\u001b[37m\u001b[0m \u001b[1m0s\u001b[0m 65ms/step\n",
      "[8 3 5 4 0 5 3 2 1 5 0 2 1 6 0 3 2 7 0 8 1 5 1 4 8 5 3 0 2 5 4 0]\n",
      "[4 7 3 7 1 8 1 7 8 7 5 0 6 0 5 7 4 5 6 2 2 8 3 1 7 7 2 8 0 4 1 8]\n",
      "\u001b[1m1/1\u001b[0m \u001b[32m━━━━━━━━━━━━━━━━━━━━\u001b[0m\u001b[37m\u001b[0m \u001b[1m0s\u001b[0m 66ms/step\n",
      "[3 7 4 7 1 8 1 7 8 7 2 0 6 0 5 7 2 5 6 2 2 8 4 1 7 7 6 8 0 3 1 3]\n",
      "[2 4 2 5 5 2 5 3 5 5 0 2 8 0 1 5 4 7 8 2 3 5 4 5 7 0 4 8 2 6 2 1]\n",
      "\u001b[1m1/1\u001b[0m \u001b[32m━━━━━━━━━━━━━━━━━━━━\u001b[0m\u001b[37m\u001b[0m \u001b[1m0s\u001b[0m 66ms/step\n",
      "[2 4 2 5 5 4 0 4 5 5 0 2 8 0 1 5 4 7 8 2 3 5 5 5 7 0 4 8 2 6 2 1]\n",
      "[6 2 4 8 1 4 5 0 5 1 8 2 6 0 2 0 3 7 6 1 5 6 6 3 3 1 4 6 1 3 5 7]\n",
      "\u001b[1m1/1\u001b[0m \u001b[32m━━━━━━━━━━━━━━━━━━━━\u001b[0m\u001b[37m\u001b[0m \u001b[1m0s\u001b[0m 64ms/step\n",
      "[6 2 4 8 1 4 5 0 5 1 8 2 6 0 2 0 1 7 6 1 2 6 6 2 3 4 4 6 1 3 5 7]\n",
      "[4 2 1 4 7 8 6 3 7 7 8 2 3 5 0 1 3 8 8 6 3 7 3 6 6 0 3 4 5 8 0 2]\n",
      "\u001b[1m1/1\u001b[0m \u001b[32m━━━━━━━━━━━━━━━━━━━━\u001b[0m\u001b[37m\u001b[0m \u001b[1m0s\u001b[0m 65ms/step\n",
      "[4 2 5 4 7 8 2 0 7 7 8 2 4 5 0 1 3 8 5 6 4 7 3 2 6 0 1 5 5 8 0 2]\n",
      "[3 0 1 4 2 0 7 4 1 7 5 8 3 0 4 4 4 1 6 7 1 4 8 6 4 0 3 8 6 1 8 6]\n",
      "\u001b[1m1/1\u001b[0m \u001b[32m━━━━━━━━━━━━━━━━━━━━\u001b[0m\u001b[37m\u001b[0m \u001b[1m0s\u001b[0m 65ms/step\n",
      "[2 0 4 4 2 5 7 2 0 7 5 1 3 0 1 4 4 1 6 7 3 3 8 6 2 4 4 8 8 1 8 5]\n",
      "[7 6 4 0 5 8 8 2 4 2 7 3 5 5 4 7 0 7 2 8 8 8 3 7 3 1 7 7 8 3 6 0]\n",
      "\u001b[1m1/1\u001b[0m \u001b[32m━━━━━━━━━━━━━━━━━━━━\u001b[0m\u001b[37m\u001b[0m \u001b[1m0s\u001b[0m 65ms/step\n",
      "[7 3 1 0 5 8 8 2 4 1 8 4 5 5 4 7 0 7 4 8 4 8 1 7 1 1 7 7 8 3 6 0]\n",
      "[4 3 1 7 4 6 3 6 7 4 3 5 3 1 4 6 7 8 7 3 5 0 6 6 3 5 0 8 4 3 0 7]\n",
      "\u001b[1m1/1\u001b[0m \u001b[32m━━━━━━━━━━━━━━━━━━━━\u001b[0m\u001b[37m\u001b[0m \u001b[1m0s\u001b[0m 65ms/step\n",
      "[4 1 4 7 4 6 3 6 7 3 4 6 3 1 2 6 7 8 7 3 5 0 6 6 3 5 0 8 4 1 0 7]\n",
      "[5 1 3 3 6 6 0 0 6 8 3 2 2 5 8 7 8 1 3 7 7 8 3 8 8 1 4 8 1 5 8 0]\n",
      "\u001b[1m1/1\u001b[0m \u001b[32m━━━━━━━━━━━━━━━━━━━━\u001b[0m\u001b[37m\u001b[0m \u001b[1m0s\u001b[0m 65ms/step\n",
      "[5 1 1 0 6 6 0 0 6 8 3 2 2 3 8 7 8 3 2 7 8 8 4 8 7 5 4 8 2 5 8 0]\n",
      "[3 1 4 3 3 1 0 0 0 6 5 6 4 3 4 3 0 4 6 5 5 7 3 6 5 3 7 7 3 0 2 5]\n",
      "\u001b[1m1/1\u001b[0m \u001b[32m━━━━━━━━━━━━━━━━━━━━\u001b[0m\u001b[37m\u001b[0m \u001b[1m0s\u001b[0m 65ms/step\n",
      "[3 1 4 3 3 1 0 0 0 6 5 6 4 3 4 6 0 4 6 5 5 7 3 6 2 0 7 7 3 0 2 2]\n",
      "[6 1 1 5 2 1 2 4 2 6 5 3 5 0 2 7 2 2 4 3 5 2 4 7 8 5 4 7 7 7 5 8]\n",
      "\u001b[1m1/1\u001b[0m \u001b[32m━━━━━━━━━━━━━━━━━━━━\u001b[0m\u001b[37m\u001b[0m \u001b[1m0s\u001b[0m 66ms/step\n",
      "[6 5 4 1 2 4 2 4 4 6 5 3 5 0 2 7 2 2 4 0 5 2 4 7 8 5 4 7 7 7 5 8]\n",
      "[7 5 2 3 2 4 3 1 7 8 0 1 3 5 1 2 0 7 4 8 6 7 0 6 3 8 7 8 3 4 8 5]\n",
      "\u001b[1m1/1\u001b[0m \u001b[32m━━━━━━━━━━━━━━━━━━━━\u001b[0m\u001b[37m\u001b[0m \u001b[1m0s\u001b[0m 65ms/step\n",
      "[7 8 4 4 2 4 3 1 7 8 4 1 1 5 1 2 0 7 3 8 6 7 0 6 0 8 7 6 4 6 8 5]\n",
      "[1 4 8 3 6 1 8 6 5 3 4 2 8 5 5 8 8 6 5 1 1 1 6 2 0 5 8 5 5 1 0 8]\n",
      "\u001b[1m1/1\u001b[0m \u001b[32m━━━━━━━━━━━━━━━━━━━━\u001b[0m\u001b[37m\u001b[0m \u001b[1m0s\u001b[0m 68ms/step\n",
      "[1 1 5 3 6 2 6 6 5 3 2 1 8 5 5 8 8 6 5 1 4 1 4 2 0 2 8 5 5 1 0 8]\n",
      "[6 8 7 6 8 1 3 0 0 1 0 7 2 7 5 5 5 2 7 3 6 7 0 3 2 3 2 8 7 2 1 5]\n",
      "\u001b[1m1/1\u001b[0m \u001b[32m━━━━━━━━━━━━━━━━━━━━\u001b[0m\u001b[37m\u001b[0m \u001b[1m0s\u001b[0m 66ms/step\n",
      "[6 4 6 6 2 0 3 0 0 1 0 7 2 7 5 5 5 2 7 0 2 7 0 3 2 4 2 5 7 2 2 1]\n",
      "[1 7 0 5 2 1 8 5 5 8 1 1 4 0 1 1 6 2 2 8 3 4 4 3 0 7 7 2 6 8 5 6]\n",
      "\u001b[1m1/1\u001b[0m \u001b[32m━━━━━━━━━━━━━━━━━━━━\u001b[0m\u001b[37m\u001b[0m \u001b[1m0s\u001b[0m 66ms/step\n",
      "[1 7 3 2 2 1 8 2 5 8 1 4 4 0 1 1 2 2 2 8 4 4 4 3 0 7 7 2 6 8 5 6]\n",
      "[0 4 8 1 1 4 8 0 3 7 7 1 3 5 5 7 4 5 8 6 5 6 1 7 0 6 0 8 3 1 5 5]\n",
      "\u001b[1m1/1\u001b[0m \u001b[32m━━━━━━━━━━━━━━━━━━━━\u001b[0m\u001b[37m\u001b[0m \u001b[1m0s\u001b[0m 64ms/step\n",
      "[3 4 8 1 1 4 6 4 0 7 7 1 0 5 5 7 4 5 8 6 5 6 1 7 0 6 0 8 3 1 2 5]\n",
      "[5 1 2 4 3 6 7 6 5 8 7 7 6 3 3 4 0 4 5 8 8 0 0 1 0 4 8 7 5 0 6 1]\n",
      "\u001b[1m1/1\u001b[0m \u001b[32m━━━━━━━━━━━━━━━━━━━━\u001b[0m\u001b[37m\u001b[0m \u001b[1m0s\u001b[0m 64ms/step\n",
      "[5 1 2 4 0 6 7 6 5 8 7 7 6 3 0 4 2 4 5 8 8 0 4 1 4 4 8 7 5 0 6 4]\n",
      "[6 7 1 0 5 3 1 8 3 1 4 6 6 0 7 6 5 5 5 8 5 7 5 8 1 8 2 0 4 0 5 5]\n",
      "\u001b[1m1/1\u001b[0m \u001b[32m━━━━━━━━━━━━━━━━━━━━\u001b[0m\u001b[37m\u001b[0m \u001b[1m0s\u001b[0m 65ms/step\n",
      "[6 7 1 3 5 3 1 8 0 4 4 6 6 5 7 6 5 5 5 8 2 7 5 8 1 8 2 0 4 0 8 5]\n",
      "[3 1 0 5 5 1 1 7 6 5 2 5 2 4 6 3 3 3 0 5 1 6 7 4 6 8 7 1 4 7 5 0]\n",
      "\u001b[1m1/1\u001b[0m \u001b[32m━━━━━━━━━━━━━━━━━━━━\u001b[0m\u001b[37m\u001b[0m \u001b[1m0s\u001b[0m 64ms/step\n",
      "[0 1 0 5 8 4 1 7 6 5 3 5 2 2 6 3 1 3 0 5 1 6 7 0 6 8 7 3 0 7 5 1]\n",
      "[8 3 0 0 2 7 8 6 5 3 6 6 3 5 8 0 4 5 4 8 5 0 5 2 0 3 7 1 4 5 5 4]\n",
      "\u001b[1m1/1\u001b[0m \u001b[32m━━━━━━━━━━━━━━━━━━━━\u001b[0m\u001b[37m\u001b[0m \u001b[1m0s\u001b[0m 67ms/step\n",
      "[8 3 0 0 2 7 8 6 5 3 6 6 3 2 8 0 4 1 1 8 5 0 5 2 3 4 8 3 4 5 0 4]\n",
      "[8 0 8 8 8 3 8 7 8 1 5 8 7 8 2 6 7 5 0 2 2 5 3 4 4 3 7 0 6 3 2 6]\n",
      "\u001b[1m1/1\u001b[0m \u001b[32m━━━━━━━━━━━━━━━━━━━━\u001b[0m\u001b[37m\u001b[0m \u001b[1m0s\u001b[0m 65ms/step\n",
      "[8 2 8 8 8 3 6 7 8 2 5 8 7 8 2 6 7 1 0 2 2 5 1 4 3 3 7 0 5 3 5 8]\n",
      "[6 2 0 2 7 8 3 0 5 5 3 8 7 1 3 2 8 6 0 7 8 6 6 5 3 1 3 6 8 0 4 6]\n",
      "\u001b[1m1/1\u001b[0m \u001b[32m━━━━━━━━━━━━━━━━━━━━\u001b[0m\u001b[37m\u001b[0m \u001b[1m0s\u001b[0m 66ms/step\n",
      "[6 2 0 2 8 8 1 0 5 8 1 8 7 2 4 2 8 6 0 7 8 6 5 5 0 1 5 6 8 0 4 8]\n",
      "[2 6 4 7 3 6 8 7 7 0 5 1 0 6 3 5 0 5 4 4 4 1 7 0 3 4 7 5 4 1 3 1]\n",
      "\u001b[1m1/1\u001b[0m \u001b[32m━━━━━━━━━━━━━━━━━━━━\u001b[0m\u001b[37m\u001b[0m \u001b[1m0s\u001b[0m 65ms/step\n",
      "[2 8 4 7 0 8 8 7 7 3 4 1 0 6 1 5 0 5 0 1 1 2 7 4 3 4 7 8 4 1 4 1]\n",
      "[4 1 8 7 6 5 3 3 2 8 6 6 8 2 7 6 3 4 3 3 1 1 7 3 0 5 0 0 0 5 8 4]\n",
      "\u001b[1m1/1\u001b[0m \u001b[32m━━━━━━━━━━━━━━━━━━━━\u001b[0m\u001b[37m\u001b[0m \u001b[1m0s\u001b[0m 66ms/step\n",
      "[4 2 8 7 6 5 3 3 2 8 6 6 8 2 7 6 0 6 3 1 1 5 7 3 0 5 0 0 0 5 7 4]\n",
      "[8 2 5 5 3 0 8 4 7 2 5 1 7 2 8 2 5 5 7 6 5 3 6 3 8 7 6 0 3 2 0 4]\n",
      "\u001b[1m1/1\u001b[0m \u001b[32m━━━━━━━━━━━━━━━━━━━━\u001b[0m\u001b[37m\u001b[0m \u001b[1m0s\u001b[0m 68ms/step\n",
      "[8 2 5 5 3 0 6 4 7 2 5 1 7 2 8 2 5 5 7 6 4 0 6 4 8 7 6 0 3 2 0 4]\n",
      "[2 8 5 0 8 0 5 6 8 8 8 0 4 6 5 4 4 6 3 0 8 8 6 6 2 0 7 4 5 3 8 5]\n",
      "\u001b[1m1/1\u001b[0m \u001b[32m━━━━━━━━━━━━━━━━━━━━\u001b[0m\u001b[37m\u001b[0m \u001b[1m0s\u001b[0m 64ms/step\n",
      "[4 8 5 0 8 3 5 6 8 8 8 0 4 6 2 4 4 2 3 0 8 8 6 5 2 0 7 4 1 0 8 5]\n",
      "[0 5 2 2 6 5 7 0 7 4 7 7 0 3 5 7 8 3 6 4 7 0 4 6 6 8 4 5 7 0 2 0]\n",
      "\u001b[1m1/1\u001b[0m \u001b[32m━━━━━━━━━━━━━━━━━━━━\u001b[0m\u001b[37m\u001b[0m \u001b[1m0s\u001b[0m 63ms/step\n",
      "[0 5 2 2 6 5 6 0 7 4 7 7 0 3 5 7 8 2 6 4 7 4 4 2 6 8 0 5 7 0 2 0]\n",
      "[7 1 7 3 4 7 3 0 7 6 7 1 0 0 3 2 1 1 3 6 0 2 3 3 6 0 3 1 3 5 3 5]\n",
      "\u001b[1m1/1\u001b[0m \u001b[32m━━━━━━━━━━━━━━━━━━━━\u001b[0m\u001b[37m\u001b[0m \u001b[1m0s\u001b[0m 71ms/step\n",
      "[7 1 7 4 4 7 3 1 7 6 7 1 0 0 3 2 5 1 3 2 0 2 3 0 6 0 1 1 3 5 3 6]\n",
      "[3 5 7 0 5 2 6 4 1 5 5 5 6 5 6 8 4 5 7 7 0 0 5 0 0 3 5 1 2 5 0 2]\n",
      "\u001b[1m1/1\u001b[0m \u001b[32m━━━━━━━━━━━━━━━━━━━━\u001b[0m\u001b[37m\u001b[0m \u001b[1m0s\u001b[0m 67ms/step\n",
      "[3 5 7 0 5 2 6 3 1 5 5 5 6 1 2 8 0 5 7 7 5 0 5 0 0 0 1 1 2 5 0 5]\n",
      "[7 8 8 7 4 1 8 8 2 0 3 1 5 2 1 5 7 0 7 8 6 4 0 1 8 2 6 1 5 1 3 2]\n",
      "\u001b[1m1/1\u001b[0m \u001b[32m━━━━━━━━━━━━━━━━━━━━\u001b[0m\u001b[37m\u001b[0m \u001b[1m0s\u001b[0m 67ms/step\n",
      "[7 6 8 7 4 5 8 8 2 0 4 1 5 2 1 5 7 0 7 7 6 4 4 1 8 2 6 1 2 4 3 4]\n",
      "[8 4 1 3 7 5 0 6 2 6 5 0 4 2 6 4 2 6 0 0 8 3 0 6 6 6 8 1 5 0 8 2]\n",
      "\u001b[1m1/1\u001b[0m \u001b[32m━━━━━━━━━━━━━━━━━━━━\u001b[0m\u001b[37m\u001b[0m \u001b[1m0s\u001b[0m 65ms/step\n",
      "[7 3 1 3 7 5 0 6 2 2 5 0 4 2 8 0 2 6 0 4 8 2 0 6 8 6 8 2 5 2 8 1]\n",
      "[5 1 7 4 4 4 8 2 1 5 8 3 5 8 0 0 4 0 2 3 1 5 6 2 5 6 0 3 0 2 6 6]\n",
      "\u001b[1m1/1\u001b[0m \u001b[32m━━━━━━━━━━━━━━━━━━━━\u001b[0m\u001b[37m\u001b[0m \u001b[1m0s\u001b[0m 66ms/step\n",
      "[5 1 7 4 4 4 8 2 2 5 8 4 5 8 2 0 4 0 2 3 1 5 6 2 3 6 0 3 0 2 6 6]\n",
      "[4 2 7 5 6 5 5 5 5 6 0 5 1 2 3 6 5 5 0 2 7 7 4 6 6 7 4 2 4 7 6 4]\n",
      "\u001b[1m1/1\u001b[0m \u001b[32m━━━━━━━━━━━━━━━━━━━━\u001b[0m\u001b[37m\u001b[0m \u001b[1m0s\u001b[0m 65ms/step\n",
      "[5 2 7 5 6 5 6 5 5 6 0 5 1 2 4 6 5 5 3 2 7 2 4 6 6 7 2 5 2 7 6 4]\n",
      "[4 5 6 0 4 3 4 1 1 1 2 6 4 1 5 8 3 2 2 2 4 8 1 7 8 3 8 5 7 4 8 7]\n",
      "\u001b[1m1/1\u001b[0m \u001b[32m━━━━━━━━━━━━━━━━━━━━\u001b[0m\u001b[37m\u001b[0m \u001b[1m0s\u001b[0m 67ms/step\n",
      "[4 5 6 0 4 3 4 1 1 1 4 6 4 3 5 8 3 2 4 2 4 8 4 7 8 3 8 5 7 4 8 7]\n",
      "[1 4 6 2 4 1 6 7 4 7 6 6 1 8 3 8 6 4 4 3 1 7 2 1 2 3 4 0 7 2 2 6]\n",
      "\u001b[1m1/1\u001b[0m \u001b[32m━━━━━━━━━━━━━━━━━━━━\u001b[0m\u001b[37m\u001b[0m \u001b[1m0s\u001b[0m 70ms/step\n",
      "[1 4 6 2 4 1 2 7 4 7 6 5 1 8 0 8 3 4 4 4 1 7 2 1 4 3 4 4 7 2 2 2]\n",
      "[1 7 0 4 8 5 0 2 0 4 6 3 3 1 3 4 8 4 7 7 3 1 4 5 5 6 6 8 3 1 3 1]\n",
      "\u001b[1m1/1\u001b[0m \u001b[32m━━━━━━━━━━━━━━━━━━━━\u001b[0m\u001b[37m\u001b[0m \u001b[1m0s\u001b[0m 65ms/step\n",
      "[1 7 0 4 8 3 0 2 3 3 6 0 3 1 3 4 8 0 7 7 3 3 4 5 5 6 6 8 0 1 3 1]\n",
      "[2 0 0 2 3 1 2 3 2 5 2 2 7 2 1 5 6 1 0 4 6 7 0 7 8 4 6 5 7 4 2 2]\n",
      "\u001b[1m1/1\u001b[0m \u001b[32m━━━━━━━━━━━━━━━━━━━━\u001b[0m\u001b[37m\u001b[0m \u001b[1m0s\u001b[0m 64ms/step\n",
      "[2 0 0 2 3 4 2 1 2 5 2 2 7 4 1 5 6 1 0 0 6 7 0 7 8 1 6 1 7 4 2 2]\n",
      "[6 8 7]\n",
      "\u001b[1m1/1\u001b[0m \u001b[32m━━━━━━━━━━━━━━━━━━━━\u001b[0m\u001b[37m\u001b[0m \u001b[1m0s\u001b[0m 217ms/step\n",
      "[6 8 7]\n"
     ]
    }
   ],
   "source": [
    "for batch in test.as_numpy_iterator():\n",
    "    X, y = batch\n",
    "    print(y)\n",
    "    yhat = model.predict(X)\n",
    "    predicted_classes = np.argmax(yhat, axis=1)\n",
    "    print(predicted_classes)\n",
    "    pre.update_state(y, predicted_classes)\n",
    "    re.update_state(y, predicted_classes)\n",
    "    acc.update_state(y, predicted_classes)"
   ]
  },
  {
   "cell_type": "code",
   "execution_count": 52,
   "metadata": {},
   "outputs": [
    {
     "name": "stdout",
     "output_type": "stream",
     "text": [
      "Precision: 0.9695881\n",
      "Recall: 0.9642772\n",
      "Accuracy: 0.18959731\n"
     ]
    }
   ],
   "source": [
    "print(\"Precision:\", pre.result().numpy())\n",
    "print(\"Recall:\", re.result().numpy())\n",
    "print(\"Accuracy:\", acc.result().numpy())"
   ]
  },
  {
   "cell_type": "code",
   "execution_count": 53,
   "metadata": {},
   "outputs": [
    {
     "data": {
      "image/png": "[encoded data removed]",
      "text/plain": [
       "<Figure size 640x480 with 1 Axes>"
      ]
     },
     "metadata": {},
     "output_type": "display_data"
    }
   ],
   "source": [
    "img = cv2.imread('triangulo-escaleno-1.png')\n",
    "plt.imshow(img)\n",
    "plt.show()"
   ]
  },
  {
   "cell_type": "code",
   "execution_count": 62,
   "metadata": {},
   "outputs": [
    {
     "data": {
      "text/plain": [
       "<matplotlib.image.AxesImage at 0x2ea3d159540>"
      ]
     },
     "execution_count": 62,
     "metadata": {},
     "output_type": "execute_result"
    },
    {
     "data": {
      "image/png": "[encoded data removed]",
      "text/plain": [
       "<Figure size 640x480 with 1 Axes>"
      ]
     },
     "metadata": {},
     "output_type": "display_data"
    }
   ],
   "source": [
    "img = tf.image.resize(img, (200,200))\n",
    "resized_img = img.numpy().astype(int)\n",
    "plt.imshow(resized_img)"
   ]
  },
  {
   "cell_type": "code",
   "execution_count": 63,
   "metadata": {},
   "outputs": [],
   "source": [
    "preprocessed_img = resized_img / 255.0  # Normalize pixel values (assuming pixel values are in the range [0, 255])\n",
    "preprocessed_img = preprocessed_img.reshape(1, 200, 200, 3)"
   ]
  },
  {
   "cell_type": "code",
   "execution_count": 73,
   "metadata": {},
   "outputs": [
    {
     "name": "stdout",
     "output_type": "stream",
     "text": [
      "\u001b[1m1/1\u001b[0m \u001b[32m━━━━━━━━━━━━━━━━━━━━\u001b[0m\u001b[37m\u001b[0m \u001b[1m0s\u001b[0m 24ms/step\n",
      "[[2.9730510e-11 5.7017728e-06 1.4450653e-01 1.2123549e-07 8.5548764e-01\n",
      "  1.0919731e-27 0.0000000e+00 0.0000000e+00 0.0000000e+00]]\n"
     ]
    }
   ],
   "source": [
    "predictions = model.predict(preprocessed_img)\n",
    "print(predictions)"
   ]
  },
  {
   "cell_type": "code",
   "execution_count": 75,
   "metadata": {},
   "outputs": [
    {
     "data": {
      "text/plain": [
       "0.0"
      ]
     },
     "execution_count": 75,
     "metadata": {},
     "output_type": "execute_result"
    }
   ],
   "source": [
    "preprocessed_img.min()"
   ]
  },
  {
   "cell_type": "code",
   "execution_count": 71,
   "metadata": {},
   "outputs": [
    {
     "name": "stdout",
     "output_type": "stream",
     "text": [
      "4\n"
     ]
    }
   ],
   "source": [
    "predicted_class = np.argmax(predictions)\n",
    "print(predicted_class)"
   ]
  }
 ],
 "metadata": {
  "kernelspec": {
   "display_name": "Python 3",
   "language": "python",
   "name": "python3"
  },
  "language_info": {
   "codemirror_mode": {
    "name": "ipython",
    "version": 3
   },
   "file_extension": ".py",
   "mimetype": "text/x-python",
   "name": "python",
   "nbconvert_exporter": "python",
   "pygments_lexer": "ipython3",
   "version": "3.10.9"
  }
 },
 "nbformat": 4,
 "nbformat_minor": 2
}
